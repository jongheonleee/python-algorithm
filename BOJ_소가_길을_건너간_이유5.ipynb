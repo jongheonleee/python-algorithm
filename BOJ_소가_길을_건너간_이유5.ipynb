{
  "nbformat": 4,
  "nbformat_minor": 0,
  "metadata": {
    "colab": {
      "provenance": [],
      "authorship_tag": "ABX9TyOVvc/57rUC7MsyVDbYErxX",
      "include_colab_link": true
    },
    "kernelspec": {
      "name": "python3",
      "display_name": "Python 3"
    },
    "language_info": {
      "name": "python"
    }
  },
  "cells": [
    {
      "cell_type": "markdown",
      "metadata": {
        "id": "view-in-github",
        "colab_type": "text"
      },
      "source": [
        "<a href=\"https://colab.research.google.com/github/jongheonleee/python-algorithm/blob/main/BOJ_%EC%86%8C%EA%B0%80_%EA%B8%B8%EC%9D%84_%EA%B1%B4%EB%84%88%EA%B0%84_%EC%9D%B4%EC%9C%A05.ipynb\" target=\"_parent\"><img src=\"https://colab.research.google.com/assets/colab-badge.svg\" alt=\"Open In Colab\"/></a>"
      ]
    },
    {
      "cell_type": "markdown",
      "source": [
        "> - https://www.acmicpc.net/problem/14465\n",
        "\n",
        "# 제한 상황\n",
        "- 시간 : 2초\n",
        "- 메모리 : 512 MB\n",
        "\n",
        "# 문제 요약\n",
        "- 존은 연속한 K개의 신호등이 존재하도록 신호등을 수리\n",
        "- 정상적으로 작동하는 연속 K개의 신호등이 존재하려면 최소 몇 개의 신호등을 수리해야 하는지 출력\n",
        "\n",
        "# Input\n",
        "- 첫 줄에 N, K, B (1 ≤ B,K ≤ N)가 주어짐\n",
        "- 그 다음 B줄에는 고장난 신호등의 번호가 하나씩 주어짐\n",
        "\n",
        "\n",
        "# 해결과정\n",
        "- 누적합 배열, 슬라이딩 윈도우 사용\n",
        "- 고장난 위치 기록\n",
        "- 그 위치를 누적합 배열로 기록\n",
        "- 길이 K를 만족하는 구간이 있다고 가정\n",
        "- 슬라이딩 윈도우를 오른쪽으로 한칸씩 이동하면서 최소값 기록\n"
      ],
      "metadata": {
        "id": "VePEjpR9hm8J"
      }
    },
    {
      "cell_type": "code",
      "execution_count": 3,
      "metadata": {
        "colab": {
          "base_uri": "https://localhost:8080/"
        },
        "id": "A7paRZPShbHC",
        "outputId": "4e87a052-b05a-4699-ce01-692b277b7187"
      },
      "outputs": [
        {
          "output_type": "stream",
          "name": "stdout",
          "text": [
            "10 6 5\n",
            "2\n",
            "10\n",
            "1\n",
            "5\n",
            "9\n",
            "1\n"
          ]
        }
      ],
      "source": [
        "# 입력값 & 환경 세팅\n",
        "N, K, B = map(int, input().split())\n",
        "\n",
        "broken_points = [0] * B\n",
        "for i in range(B):\n",
        "  broken_points[i] = int(input())-1\n",
        "\n",
        "acc_broken_points = [0] * N\n",
        "\n",
        "for i in broken_points:\n",
        "  acc_broken_points[i] = 1\n",
        "\n",
        "acc = 0\n",
        "for i in range(N):\n",
        "  acc += acc_broken_points[i]\n",
        "  acc_broken_points[i] = acc\n",
        "\n",
        "left, right, ans = 0, K-1, N\n",
        "while right < N:\n",
        "   cnt = acc_broken_points[right] - acc_broken_points[left]\n",
        "   ans = min(ans, cnt)\n",
        "   left += 1\n",
        "   right += 1\n",
        "\n",
        "print(ans)\n"
      ]
    },
    {
      "cell_type": "code",
      "source": [],
      "metadata": {
        "id": "_S3jVKWKioak"
      },
      "execution_count": null,
      "outputs": []
    }
  ]
}