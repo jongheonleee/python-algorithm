{
  "nbformat": 4,
  "nbformat_minor": 0,
  "metadata": {
    "colab": {
      "provenance": [],
      "authorship_tag": "ABX9TyMEA66Vy2oaIhycEz8NYk+x",
      "include_colab_link": true
    },
    "kernelspec": {
      "name": "python3",
      "display_name": "Python 3"
    },
    "language_info": {
      "name": "python"
    }
  },
  "cells": [
    {
      "cell_type": "markdown",
      "metadata": {
        "id": "view-in-github",
        "colab_type": "text"
      },
      "source": [
        "<a href=\"https://colab.research.google.com/github/jongheonleee/python-algorithm/blob/main/BOJ_%EC%9D%BC%EA%B3%B1%EB%82%9C%EC%9F%81%EC%9D%B4.ipynb\" target=\"_parent\"><img src=\"https://colab.research.google.com/assets/colab-badge.svg\" alt=\"Open In Colab\"/></a>"
      ]
    },
    {
      "cell_type": "markdown",
      "source": [
        "> - https://www.acmicpc.net/problem/2309\n",
        "\n",
        "\n",
        "# 제한 상황\n",
        "- 시간 : 2초\n",
        "- 메모리 : 128MB\n",
        "\n",
        "# 문제 요약\n",
        "- 9명의 사람 중 일곱 난쟁이 찾기\n",
        "- 일곱 난쟁이의 키의 합이 100\n",
        "- 결과 출력시 오름차순으로 정렬\n",
        "\n",
        "# Input\n",
        "- 아홉 개의 줄에 걸쳐 난쟁이들의 키가 주어짐\n",
        "- 주어지는 키는 100을 넘지 않는 자연수이며, 아홉 난쟁이의 키는 모두 다름\n",
        "\n",
        "\n",
        "# 해결과정\n",
        "- 배열 세팅\n",
        "- 총합 계산\n",
        "\n",
        "- 100 = 총합 - (x1 + x2)\n",
        "- x1, x2 찾아내기\n",
        "\n",
        "- 9명 중에 2명 뽑기(조합)"
      ],
      "metadata": {
        "id": "rmdhv1uPgVDj"
      }
    },
    {
      "cell_type": "code",
      "source": [
        "from itertools import combinations\n",
        "\n",
        "\n",
        "a = [int(input()) for _ in range(9)]\n",
        "ans = []\n",
        "\n",
        "total_sum = sum(a)\n",
        "target = total_sum - 100\n",
        "\n",
        "for com in combinations(a, 2):\n",
        "  x1, x2 = com\n",
        "\n",
        "  if x1 + x2 == target:\n",
        "    for k in a:\n",
        "      if k != x1 and k != x2:\n",
        "        ans.append(k)\n",
        "\n",
        "    break\n",
        "\n",
        "ans.sort()\n",
        "for k in ans:\n",
        "  print(k)"
      ],
      "metadata": {
        "id": "nGxFuW_DgYs-"
      },
      "execution_count": null,
      "outputs": []
    }
  ]
}