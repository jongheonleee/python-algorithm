{
  "nbformat": 4,
  "nbformat_minor": 0,
  "metadata": {
    "colab": {
      "provenance": [],
      "authorship_tag": "ABX9TyM33waX78+erS06Si3A4tW+",
      "include_colab_link": true
    },
    "kernelspec": {
      "name": "python3",
      "display_name": "Python 3"
    },
    "language_info": {
      "name": "python"
    }
  },
  "cells": [
    {
      "cell_type": "markdown",
      "metadata": {
        "id": "view-in-github",
        "colab_type": "text"
      },
      "source": [
        "<a href=\"https://colab.research.google.com/github/jongheonleee/python-algorithm/blob/main/%EC%BD%94%EB%94%A9_%EB%A0%88%EB%B2%A8_%ED%85%8C%EC%8A%A4%ED%8A%B8_(3_5).ipynb\" target=\"_parent\"><img src=\"https://colab.research.google.com/assets/colab-badge.svg\" alt=\"Open In Colab\"/></a>"
      ]
    },
    {
      "cell_type": "markdown",
      "source": [
        "### 결과\n",
        "- 3시간 5문제 풀이\n",
        "- 5개 문제중 3.5 솔\n",
        "- 레벨 테스트: https://fastcampus-product1.notion.site/df570319f2ef4432b38b4f1124010146\n",
        "- 학습 권장 플래너: https://fastcampus-product1.notion.site/bd923169e3b94587bd3e980e244e7a78\n"
      ],
      "metadata": {
        "id": "BKUU27vZm2a-"
      }
    },
    {
      "cell_type": "code",
      "source": [
        "### 균형잡힌 세상 - lv2 (15점) (예상시간 25분) ✅\n",
        "### - https://www.acmicpc.net/problem/4949\n",
        "\n",
        "### 문제요약\n",
        "### - 왼쪽 괄호, 오른쪽 괄호 짝 맞추기\n",
        "### - 괄호들의 균형이 잘 맞춰져 있는지 판단하는 프로그램 작성\n",
        "### - 괄호는 2종류 - (), []\n",
        "\n",
        "### 입력\n",
        "### - 여러줄에 걸쳐서 문자열이 주어짐\n",
        "### - 각 문자열은 영문 알파벳, 공백, 소괄호, 대괄호로 이루어짐\n",
        "### - 입력의 종료조건으로 . 이 들어옴\n",
        "\n",
        "### 출력\n",
        "### - 각 줄마다 해당 문자열이 균형을 이루고 있으면 \"yes\" 아니면 \"no\""
      ],
      "metadata": {
        "id": "kLJKUL1ZarhT"
      },
      "execution_count": 47,
      "outputs": []
    },
    {
      "cell_type": "code",
      "source": [
        "### 문제해결 과정\n",
        "# 스택 활용\n",
        "# 각 문자열마다 괄호 밸런스 유효성 판단\n",
        "  # 왼쪽 괄호는 스택에 푸쉬\n",
        "  # 오른쪽 괄호는 스택에서 팝 -> 밸런스 유효성 판별\n",
        "# 위 과정을 . 이 나올때 까지 진행\n",
        "# 해당 문자열 판단 결과 출력\n",
        "\n",
        "from collections import deque\n",
        "\n",
        "while True:\n",
        "  line = input()\n",
        "\n",
        "  if line == '.':\n",
        "    break\n",
        "\n",
        "  st = deque()\n",
        "  res = 'yes'\n",
        "  done = True\n",
        "\n",
        "  for ch in line:\n",
        "    # 문단 종료\n",
        "    if ch == '.':\n",
        "      done = True\n",
        "      break\n",
        "\n",
        "    # 왼쪽 괄호\n",
        "    if ch in ['(', '[']:\n",
        "      st.append(ch)\n",
        "\n",
        "    # 오른쪽 괄호\n",
        "    elif ch in [')', ']']:\n",
        "      if len(st) == 0:\n",
        "        res = 'no'\n",
        "        done = False\n",
        "        break\n",
        "\n",
        "      top = st.pop()\n",
        "\n",
        "      if top == '(':\n",
        "        if ch != ')':\n",
        "          res = 'no'\n",
        "          done = False\n",
        "          break\n",
        "\n",
        "      elif top == '[':\n",
        "        if ch != ']':\n",
        "          res = 'no'\n",
        "          done = False\n",
        "          break\n",
        "\n",
        "  # 마지막 스택 길이 확인\n",
        "  if done and len(st) == 0:\n",
        "    res = 'yes'\n",
        "  elif done and len(st) != 0:\n",
        "    res = 'no'\n",
        "\n",
        "  print(res)\n",
        "\n",
        "\n",
        "# So when I die (the [first] I will see in (heaven) is a score list).\n",
        "# yes\n",
        "# [ first in ] ( first out ).\n",
        "# yes\n",
        "# Half Moon tonight (At least it is better than no Moon at all]. A rope may form )( a trail in a maze.\n",
        "# no\n",
        "# Help( I[m being held prisoner in a fortune cookie factory)].\n",
        "# no\n",
        "# ([ (([( [ ] ) ( ) (( ))] )) ]).\n",
        "# yes\n",
        "#  .\n",
        "# yes\n",
        "# .\n",
        ""
      ],
      "metadata": {
        "colab": {
          "base_uri": "https://localhost:8080/",
          "height": 365
        },
        "collapsed": true,
        "id": "Z9_HcuENarW_",
        "outputId": "e529b8af-db54-42de-c689-adf25a68678f"
      },
      "execution_count": 48,
      "outputs": [
        {
          "output_type": "error",
          "ename": "KeyboardInterrupt",
          "evalue": "Interrupted by user",
          "traceback": [
            "\u001b[0;31m---------------------------------------------------------------------------\u001b[0m",
            "\u001b[0;31mKeyboardInterrupt\u001b[0m                         Traceback (most recent call last)",
            "\u001b[0;32m<ipython-input-48-da8865faf29c>\u001b[0m in \u001b[0;36m<cell line: 0>\u001b[0;34m()\u001b[0m\n\u001b[1;32m     10\u001b[0m \u001b[0;34m\u001b[0m\u001b[0m\n\u001b[1;32m     11\u001b[0m \u001b[0;32mwhile\u001b[0m \u001b[0;32mTrue\u001b[0m\u001b[0;34m:\u001b[0m\u001b[0;34m\u001b[0m\u001b[0;34m\u001b[0m\u001b[0m\n\u001b[0;32m---> 12\u001b[0;31m   \u001b[0mline\u001b[0m \u001b[0;34m=\u001b[0m \u001b[0minput\u001b[0m\u001b[0;34m(\u001b[0m\u001b[0;34m)\u001b[0m\u001b[0;34m\u001b[0m\u001b[0;34m\u001b[0m\u001b[0m\n\u001b[0m\u001b[1;32m     13\u001b[0m \u001b[0;34m\u001b[0m\u001b[0m\n\u001b[1;32m     14\u001b[0m   \u001b[0;32mif\u001b[0m \u001b[0mline\u001b[0m \u001b[0;34m==\u001b[0m \u001b[0;34m'.'\u001b[0m\u001b[0;34m:\u001b[0m\u001b[0;34m\u001b[0m\u001b[0;34m\u001b[0m\u001b[0m\n",
            "\u001b[0;32m/usr/local/lib/python3.11/dist-packages/ipykernel/kernelbase.py\u001b[0m in \u001b[0;36mraw_input\u001b[0;34m(self, prompt)\u001b[0m\n\u001b[1;32m   1175\u001b[0m                 \u001b[0;34m\"raw_input was called, but this frontend does not support input requests.\"\u001b[0m\u001b[0;34m\u001b[0m\u001b[0;34m\u001b[0m\u001b[0m\n\u001b[1;32m   1176\u001b[0m             )\n\u001b[0;32m-> 1177\u001b[0;31m         return self._input_request(\n\u001b[0m\u001b[1;32m   1178\u001b[0m             \u001b[0mstr\u001b[0m\u001b[0;34m(\u001b[0m\u001b[0mprompt\u001b[0m\u001b[0;34m)\u001b[0m\u001b[0;34m,\u001b[0m\u001b[0;34m\u001b[0m\u001b[0;34m\u001b[0m\u001b[0m\n\u001b[1;32m   1179\u001b[0m             \u001b[0mself\u001b[0m\u001b[0;34m.\u001b[0m\u001b[0m_parent_ident\u001b[0m\u001b[0;34m[\u001b[0m\u001b[0;34m\"shell\"\u001b[0m\u001b[0;34m]\u001b[0m\u001b[0;34m,\u001b[0m\u001b[0;34m\u001b[0m\u001b[0;34m\u001b[0m\u001b[0m\n",
            "\u001b[0;32m/usr/local/lib/python3.11/dist-packages/ipykernel/kernelbase.py\u001b[0m in \u001b[0;36m_input_request\u001b[0;34m(self, prompt, ident, parent, password)\u001b[0m\n\u001b[1;32m   1217\u001b[0m             \u001b[0;32mexcept\u001b[0m \u001b[0mKeyboardInterrupt\u001b[0m\u001b[0;34m:\u001b[0m\u001b[0;34m\u001b[0m\u001b[0;34m\u001b[0m\u001b[0m\n\u001b[1;32m   1218\u001b[0m                 \u001b[0;31m# re-raise KeyboardInterrupt, to truncate traceback\u001b[0m\u001b[0;34m\u001b[0m\u001b[0;34m\u001b[0m\u001b[0m\n\u001b[0;32m-> 1219\u001b[0;31m                 \u001b[0;32mraise\u001b[0m \u001b[0mKeyboardInterrupt\u001b[0m\u001b[0;34m(\u001b[0m\u001b[0;34m\"Interrupted by user\"\u001b[0m\u001b[0;34m)\u001b[0m \u001b[0;32mfrom\u001b[0m \u001b[0;32mNone\u001b[0m\u001b[0;34m\u001b[0m\u001b[0;34m\u001b[0m\u001b[0m\n\u001b[0m\u001b[1;32m   1220\u001b[0m             \u001b[0;32mexcept\u001b[0m \u001b[0mException\u001b[0m\u001b[0;34m:\u001b[0m\u001b[0;34m\u001b[0m\u001b[0;34m\u001b[0m\u001b[0m\n\u001b[1;32m   1221\u001b[0m                 \u001b[0mself\u001b[0m\u001b[0;34m.\u001b[0m\u001b[0mlog\u001b[0m\u001b[0;34m.\u001b[0m\u001b[0mwarning\u001b[0m\u001b[0;34m(\u001b[0m\u001b[0;34m\"Invalid Message:\"\u001b[0m\u001b[0;34m,\u001b[0m \u001b[0mexc_info\u001b[0m\u001b[0;34m=\u001b[0m\u001b[0;32mTrue\u001b[0m\u001b[0;34m)\u001b[0m\u001b[0;34m\u001b[0m\u001b[0;34m\u001b[0m\u001b[0m\n",
            "\u001b[0;31mKeyboardInterrupt\u001b[0m: Interrupted by user"
          ]
        }
      ]
    },
    {
      "cell_type": "code",
      "execution_count": 17,
      "metadata": {
        "id": "xVFqcuycYS4M"
      },
      "outputs": [],
      "source": [
        "### 2. 배부른 마라토너 - lv2 (15점) (예상시간 25분) ✅\n",
        "### - https://www.acmicpc.net/problem/10546\n",
        "\n",
        "### 문제 요약\n",
        "### - 모두가 참가하고 싶어서 안달인데 이런 백준 마라톤 대회에 참가해 놓고 완주하지 못한 배부른 참가자 한 명은 누굴까?\n",
        "### - 완주하지 못한 참가자 찾기\n",
        "\n",
        "### 입력\n",
        "### - 첫째 줄에는 참가자 수 N이 주어짐 (1 ≤ N ≤ 10^5)\n",
        "### - N개의 줄에는 참가자의 이름이 주어짐\n",
        "### - N-1개의 줄에는 완주한 참가자의 이름이 쓰여짐\n",
        "### - 참가자들 중엔 동명이인이 있을 수 있음\n",
        "\n",
        "### 출력\n",
        "### - 마라톤을 완주하지 못한 참가자의 이름을 출력"
      ]
    },
    {
      "cell_type": "code",
      "source": [
        "### 문제해결 과정\n",
        "# 이차원 배열 활용\n",
        "# 입력값 세팅\n",
        "# 완주한 사람 1, 그렇지 못한 사람 0 기록\n",
        "# 0인 사람 출력\n",
        "\n",
        "d = {}\n",
        "\n",
        "N = int(input())\n",
        "\n",
        "for _ in range(N):\n",
        "  name = input()\n",
        "  if name not in d:\n",
        "    d[name] = 1\n",
        "  else:\n",
        "    d[name] += 1\n",
        "\n",
        "for _ in range(N-1):\n",
        "  name = input()\n",
        "  d[name] -= 1\n",
        "\n",
        "for name, count in d.items():\n",
        "  if count > 0:\n",
        "    print(name)\n",
        ""
      ],
      "metadata": {
        "colab": {
          "base_uri": "https://localhost:8080/"
        },
        "collapsed": true,
        "id": "LzAGNOzFZChT",
        "outputId": "55c691aa-05c2-49e0-931f-01adabdaacff"
      },
      "execution_count": 37,
      "outputs": [
        {
          "output_type": "stream",
          "name": "stdout",
          "text": [
            "3\n",
            "leo\n",
            "kiki\n",
            "eden\n",
            "eden\n",
            "kiki\n",
            "leo\n"
          ]
        }
      ]
    },
    {
      "cell_type": "code",
      "source": [
        "### 3. 구슬탈출 - lv 3 (20점) (예상시간 40분) ❌\n",
        "\n",
        "### 문제 요약\n",
        "### - 게임의 목표는 빨간 구슬을 구멍을 통해서 빼내는 것이다. 이때, 파란 구슬이 구멍에 들어가면 안 된다.\n",
        "### - 중력을 이용해서 이리 저리 굴려야 한다. 왼쪽으로 기울이기, 오른쪽으로 기울이기, 위쪽으로 기울이기, 아래쪽으로 기울이기와 같은 네 가지 동작이 가능\n",
        "### - 각각의 동작에서 공은 동시에 움직임\n",
        "### - 보드의 상태가 주어졌을 때, 10번 이하로 빨간 구슬을 구멍을 통해 빼낼 수 있는지 구하는 프로그램을 작성\n",
        "\n",
        "\n",
        "### 입력\n",
        "# 5 5\n",
        "# #####\n",
        "# #..B#\n",
        "# #.#.#\n",
        "# #RO.#\n",
        "# #####\n",
        "\n",
        "### 출력\n",
        "# 10번 이하로 움직여서 빼낼 수 있으면 1 없으면 0"
      ],
      "metadata": {
        "id": "c2vfZa4IZ5i0"
      },
      "execution_count": 1,
      "outputs": []
    },
    {
      "cell_type": "code",
      "source": [
        "### 문제해결 과정\n",
        "### BFS 알고리즘 적용\n",
        "### 전체 구슬의 위치 정보, 색상 정보 표현\n",
        "### 큐에 담아서 시뮬레이션 돌리기\n",
        "### 10번 이하로 도달할 경우 1, 그게 아니면 0\n",
        "from collections import deque\n",
        "\n",
        "\n",
        "N, M = map(int, input().split())\n",
        "board = []\n",
        "vis = []\n",
        "\n",
        "for _ in range(N):\n",
        "  line = input()\n",
        "  tmp = []\n",
        "\n",
        "  for ch in line:\n",
        "    tmp.append(ch)\n",
        "\n",
        "  board.append(tmp)\n",
        "  vis.append([False] * M)\n",
        "\n",
        "def is_valid(x, y):\n",
        "  return 0 <= x and x < N and 0 <= y and y < M and board[x][y] != '#' and vis[x][y] == False\n",
        "\n",
        "def find_candidates() -> list:\n",
        "  cands = []\n",
        "\n",
        "  for i in range(N):\n",
        "    for j in range(M):\n",
        "      if board[i][j] == 'B' or board[i][j] == 'R':\n",
        "        cands.append((i, j, board[i][j]))\n",
        "\n",
        "  return cands\n",
        "\n",
        "def find_target() -> tuple:\n",
        "  for i in range(N):\n",
        "    for j in range(M):\n",
        "      if board[i][j] == 'O':\n",
        "        return (i, j)\n",
        "\n",
        "def bfs(cands: list, target: tuple) -> int:\n",
        "  dx = [1, -1, 0, 0]\n",
        "  dy = [0, 0, 1, -1]\n",
        "\n",
        "  q = deque(cands)\n",
        "  count = 0\n",
        "\n",
        "  while len(q) > 0 and count <= 10:\n",
        "    complete = False\n",
        "\n",
        "    for _ in range(len(q)):\n",
        "      curr_x, curr_y, color = q.popleft()\n",
        "\n",
        "      if curr_x == target[0] and curr_y == target[1]:\n",
        "        if color == 'R':\n",
        "          complete = True\n",
        "        elif color == 'B':\n",
        "          complete = False\n",
        "\n",
        "      prev_x, prev_y = curr_x, curr_y\n",
        "      for i in range(4): # 방향 정하기\n",
        "        next_x, next_y = prev_x + dx[i], prev_y + dy[i]\n",
        "\n",
        "        while is_valid(next_x, next_y): # 벽에 부딪힐 때까지 움직임\n",
        "          board[prev_x][prev_y] = '.'\n",
        "          board[next_x][next_y] = color\n",
        "          vis[next_x][next_y] = True\n",
        "\n",
        "          prev_x, prev_y = next_x, next_y\n",
        "          next_x, next_y = next_x + dx[i], next_y + dy[i]\n",
        "\n",
        "          if curr_x == target[0] and curr_y == target[1]:\n",
        "            if color == 'R':\n",
        "              complete = True\n",
        "            elif color == 'B':\n",
        "              complete = False\n",
        "\n",
        "        if complete:\n",
        "          return 1\n",
        "\n",
        "        # 마지막에 큐에 추가하기\n",
        "        q.append((prev_x, prev_y, color))\n",
        "\n",
        "\n",
        "    count += 1\n",
        "    print(count)\n",
        "\n",
        "  return 0\n",
        "\n",
        "\n",
        "cands = find_candidates()\n",
        "target = find_target()\n",
        "result = bfs(cands, target)\n",
        "print(result)"
      ],
      "metadata": {
        "colab": {
          "base_uri": "https://localhost:8080/"
        },
        "collapsed": true,
        "id": "uP3VQ1rS4Kml",
        "outputId": "7d493f26-ade9-4769-aa9e-c8a184e75ba1"
      },
      "execution_count": 32,
      "outputs": [
        {
          "output_type": "stream",
          "name": "stdout",
          "text": [
            "7 7\n",
            "#######\n",
            "#...RB#\n",
            "#.#####\n",
            "#.....#\n",
            "#####.#\n",
            "#O....#\n",
            "#######\n",
            "1\n",
            "2\n",
            "3\n",
            "1\n"
          ]
        }
      ]
    },
    {
      "cell_type": "code",
      "source": [
        "### 4. 스타트 택시 - lv 3 (20점) (예상시간 40분) ❌\n",
        "### - https://www.acmicpc.net/problem/19238\n",
        "\n",
        "### 문제 요약\n",
        "### -\n",
        "\n",
        "### 입력\n",
        "### -\n",
        "\n",
        "### 출력\n",
        "### -"
      ],
      "metadata": {
        "id": "lSjEf2En56pb"
      },
      "execution_count": 38,
      "outputs": []
    },
    {
      "cell_type": "code",
      "source": [
        "### 5. 연구소 - lv 4 (30점) (예상시간 50분) ✅\n",
        "### - https://www.acmicpc.net/problem/14502\n",
        "\n",
        "### 문제 요약\n",
        "### - 연구소는 크기가 N×M인 직사각형\n",
        "### - 연구소는 빈 칸, 벽으로 이루어져 있으며, 벽은 칸 하나를 가득 차지함\n",
        "### - 일부 칸은 바이러스가 존재하며, 이 바이러스는 상하좌우로 인접한 빈 칸으로 모두 퍼져나갈 수 있다.\n",
        "### - 새로 세울 수 있는 벽의 개수는 3개이며, 꼭 3개를 세워야 한다.\n",
        "### - 0은 빈 칸, 1은 벽, 2는 바이러스가 있는 곳\n",
        "\n",
        "### 입력\n",
        "### - N, M 크기\n",
        "### - 2차원 지도\n",
        "\n",
        "### 출력\n",
        "### - 최대 영역 반환"
      ],
      "metadata": {
        "id": "8Eftvr23Mw5e"
      },
      "execution_count": 39,
      "outputs": []
    },
    {
      "cell_type": "code",
      "source": [
        "### 문제해결 과정\n",
        "### n, m이 최대 8임\n",
        "### 8이라고 가정하고 알고리즘 적용\n",
        "### 64개의 위치 중에 벽을 세울 위치 3곳을 정함\n",
        "  ### BFS 알고리즘 적용하여 바이러스 전파 영역 계산\n",
        "  ### BFS 탐색 종료시 전파되지 않은 영역 계산\n",
        "  ### 최대값 업데이트\n",
        "### 기록된 최대값 출력"
      ],
      "metadata": {
        "id": "D4BpuFcOeJHF"
      },
      "execution_count": 45,
      "outputs": []
    },
    {
      "cell_type": "code",
      "source": [
        "from itertools import combinations\n",
        "from collections import deque\n",
        "import copy\n",
        "\n",
        "N, M = map(int, input().split())\n",
        "map = list(list(map(int, input().split())) for _ in range(N))\n",
        "\n",
        "# 후보 위치 기록\n",
        "candidates = []\n",
        "for i in range(N):\n",
        "  for j in range(M):\n",
        "    if map[i][j] == 0:\n",
        "      candidates.append((i, j))\n",
        "\n",
        "# 후보 위치 중 3곳 선정\n",
        "coms = combinations(candidates, 3)\n",
        "result = -1\n",
        "dx = [1, -1, 0, 0]\n",
        "dy = [0, 0, 1, -1]\n",
        "\n",
        "# BFS 알고리즘 적용\n",
        "# 탐색 종료시 전파된 영역 계산\n",
        "# 최대값 업데이트\n",
        "\n",
        "for com in coms:\n",
        "  # 새로운 지도 그리기\n",
        "  new_map = copy.deepcopy(map)\n",
        "  for x, y in com:\n",
        "    new_map[x][y] = 1 # 벽 세움\n",
        "\n",
        "\n",
        "  # bfs 알고리즘 적용하기\n",
        "  # - 바이러스 큐에 담기\n",
        "  q = deque()\n",
        "\n",
        "  for i in range(N):\n",
        "    for j in range(M):\n",
        "      if new_map[i][j] == 2:\n",
        "        q.append((i, j))\n",
        "\n",
        "  # - bfs 탐색 시작\n",
        "  while len(q) > 0:\n",
        "    x, y = q.popleft()\n",
        "\n",
        "    for i in range(4):\n",
        "      nx, ny = x+dx[i], y+dy[i]\n",
        "\n",
        "      # 유효 범위 아니면 건너뜀\n",
        "      # 0 아니면 건너뜀\n",
        "      # 만약 위에 다 해당되지 않는다면, 전파됨\n",
        "      if (0 <= nx < N and 0 <= ny < M) and new_map[nx][ny] == 0:\n",
        "        new_map[nx][ny] = 2\n",
        "\n",
        "        q.append((nx, ny))\n",
        "\n",
        "  # 안전 영역 계산\n",
        "  size = 0\n",
        "\n",
        "  for i in range(N):\n",
        "    for j in range(M):\n",
        "      if new_map[i][j] == 0: size += 1\n",
        "\n",
        "\n",
        "  # 최대값 업데이트\n",
        "  result = max(result, size)\n",
        "\n",
        "\n",
        "# 최종 값 출력\n",
        "print(result)"
      ],
      "metadata": {
        "colab": {
          "base_uri": "https://localhost:8080/",
          "height": 233
        },
        "collapsed": true,
        "id": "UQbhJ1Ude2ql",
        "outputId": "2894d85b-c515-4c34-f4e3-5a8f44269c79"
      },
      "execution_count": 46,
      "outputs": [
        {
          "name": "stdout",
          "output_type": "stream",
          "text": [
            "7 7\n"
          ]
        },
        {
          "output_type": "error",
          "ename": "TypeError",
          "evalue": "'list' object is not callable",
          "traceback": [
            "\u001b[0;31m---------------------------------------------------------------------------\u001b[0m",
            "\u001b[0;31mTypeError\u001b[0m                                 Traceback (most recent call last)",
            "\u001b[0;32m<ipython-input-46-9cd5abfc9ff2>\u001b[0m in \u001b[0;36m<cell line: 0>\u001b[0;34m()\u001b[0m\n\u001b[1;32m      1\u001b[0m \u001b[0;32mfrom\u001b[0m \u001b[0mitertools\u001b[0m \u001b[0;32mimport\u001b[0m \u001b[0mcombinations\u001b[0m\u001b[0;34m\u001b[0m\u001b[0;34m\u001b[0m\u001b[0m\n\u001b[1;32m      2\u001b[0m \u001b[0;34m\u001b[0m\u001b[0m\n\u001b[0;32m----> 3\u001b[0;31m \u001b[0mN\u001b[0m\u001b[0;34m,\u001b[0m \u001b[0mM\u001b[0m \u001b[0;34m=\u001b[0m \u001b[0mmap\u001b[0m\u001b[0;34m(\u001b[0m\u001b[0mint\u001b[0m\u001b[0;34m,\u001b[0m \u001b[0minput\u001b[0m\u001b[0;34m(\u001b[0m\u001b[0;34m)\u001b[0m\u001b[0;34m.\u001b[0m\u001b[0msplit\u001b[0m\u001b[0;34m(\u001b[0m\u001b[0;34m)\u001b[0m\u001b[0;34m)\u001b[0m\u001b[0;34m\u001b[0m\u001b[0;34m\u001b[0m\u001b[0m\n\u001b[0m\u001b[1;32m      4\u001b[0m \u001b[0mmap\u001b[0m \u001b[0;34m=\u001b[0m \u001b[0mlist\u001b[0m\u001b[0;34m(\u001b[0m\u001b[0mlist\u001b[0m\u001b[0;34m(\u001b[0m\u001b[0mmap\u001b[0m\u001b[0;34m(\u001b[0m\u001b[0mint\u001b[0m\u001b[0;34m,\u001b[0m \u001b[0minput\u001b[0m\u001b[0;34m(\u001b[0m\u001b[0;34m)\u001b[0m\u001b[0;34m.\u001b[0m\u001b[0msplit\u001b[0m\u001b[0;34m(\u001b[0m\u001b[0;34m)\u001b[0m\u001b[0;34m)\u001b[0m\u001b[0;34m)\u001b[0m \u001b[0;32mfor\u001b[0m \u001b[0m_\u001b[0m \u001b[0;32min\u001b[0m \u001b[0mrange\u001b[0m\u001b[0;34m(\u001b[0m\u001b[0mN\u001b[0m\u001b[0;34m)\u001b[0m\u001b[0;34m)\u001b[0m\u001b[0;34m\u001b[0m\u001b[0;34m\u001b[0m\u001b[0m\n\u001b[1;32m      5\u001b[0m \u001b[0;34m\u001b[0m\u001b[0m\n",
            "\u001b[0;31mTypeError\u001b[0m: 'list' object is not callable"
          ]
        }
      ]
    },
    {
      "cell_type": "code",
      "source": [],
      "metadata": {
        "id": "mCu4Gzh8geZI"
      },
      "execution_count": null,
      "outputs": []
    }
  ]
}