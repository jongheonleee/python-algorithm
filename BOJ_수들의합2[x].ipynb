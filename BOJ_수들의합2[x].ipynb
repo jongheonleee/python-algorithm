{
  "nbformat": 4,
  "nbformat_minor": 0,
  "metadata": {
    "colab": {
      "provenance": [],
      "authorship_tag": "ABX9TyNBLm8qVVuHbscSmeRXOzTD",
      "include_colab_link": true
    },
    "kernelspec": {
      "name": "python3",
      "display_name": "Python 3"
    },
    "language_info": {
      "name": "python"
    }
  },
  "cells": [
    {
      "cell_type": "markdown",
      "metadata": {
        "id": "view-in-github",
        "colab_type": "text"
      },
      "source": [
        "<a href=\"https://colab.research.google.com/github/jongheonleee/python-algorithm/blob/main/BOJ_%EC%88%98%EB%93%A4%EC%9D%98%ED%95%A92%5Bx%5D.ipynb\" target=\"_parent\"><img src=\"https://colab.research.google.com/assets/colab-badge.svg\" alt=\"Open In Colab\"/></a>"
      ]
    },
    {
      "cell_type": "markdown",
      "source": [
        "> - https://www.acmicpc.net/problem/2343\n",
        "\n",
        "# 제한 상황\n",
        "- 시간 : 0.5초\n",
        "- 메모리 : 128MB\n",
        "\n",
        "# 문제 요약\n",
        "- N개의 수로 된 수열 A[1], A[2], …, A[N]\n",
        "- 번째 수부터 j번째 수까지의 합 A[i] + A[i+1] + … + A[j-1] + A[j]가 M이 되는 경우의 수를 구하는 프로그램 제작\n",
        "\n",
        "# Input\n",
        "- 첫째 줄에 N(1 ≤ N ≤ 10,000), M(1 ≤ M ≤ 300,000,000)이 주어짐\n",
        "- 다음 줄에는 A[1], A[2], …, A[N]이 공백으로 분리되어 주어짐\n",
        "- A[x]는 30,000을 넘지 않는 자연수\n",
        "\n",
        "# 해결과정\n",
        "- 시작 지점에서 두개의 투 포인터 활용\n",
        "- 구간 합 < M\n",
        "  - 오른쪽 포인터 증가, 구간 합 더하기\n",
        "- 구간 합 == M\n",
        "  - 카운팅 및 오른쪽 포인터 증가\n",
        "  - 구간 합 더하기  \n",
        "- 구간 합 > M\n",
        "  - 왼쪽 카운터 증가, 구간 합 빼기"
      ],
      "metadata": {
        "id": "uh1L6PCD_Ho5"
      }
    },
    {
      "cell_type": "code",
      "execution_count": null,
      "metadata": {
        "colab": {
          "base_uri": "https://localhost:8080/"
        },
        "id": "LD7FsfGD_FM5",
        "outputId": "c2e6ccae-cba0-4a12-a4e6-bf1d90668c74"
      },
      "outputs": [
        {
          "output_type": "stream",
          "name": "stdout",
          "text": [
            "10 5\n",
            "1 2 3 4 2 5 3 1 1 2\n",
            "3\n"
          ]
        }
      ],
      "source": [
        "# 목표 : 500,000 이하\n",
        "N, M = map(int, input().split())\n",
        "arr = list(map(int, input().split()))\n",
        "\n",
        "ans = 0\n",
        "left, sum = 0, 0\n",
        "\n",
        "for right in range(N):\n",
        "  sum += arr[right]\n",
        "\n",
        "  if sum == M:\n",
        "    ans += 1\n",
        "\n",
        "  while sum >= M:\n",
        "    sum -= arr[left]\n",
        "    left += 1\n",
        "\n",
        "    if sum == M:\n",
        "      ans += 1\n",
        "\n",
        "print(ans)"
      ]
    },
    {
      "cell_type": "code",
      "source": [],
      "metadata": {
        "id": "WjEEdXfSB7zP"
      },
      "execution_count": null,
      "outputs": []
    }
  ]
}