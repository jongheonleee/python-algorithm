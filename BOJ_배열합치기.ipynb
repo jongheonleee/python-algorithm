{
  "nbformat": 4,
  "nbformat_minor": 0,
  "metadata": {
    "colab": {
      "provenance": [],
      "authorship_tag": "ABX9TyMeffhQiuxwQsCYzae+/qvj",
      "include_colab_link": true
    },
    "kernelspec": {
      "name": "python3",
      "display_name": "Python 3"
    },
    "language_info": {
      "name": "python"
    }
  },
  "cells": [
    {
      "cell_type": "markdown",
      "metadata": {
        "id": "view-in-github",
        "colab_type": "text"
      },
      "source": [
        "<a href=\"https://colab.research.google.com/github/jongheonleee/python-algorithm/blob/main/BOJ_%EB%B0%B0%EC%97%B4%ED%95%A9%EC%B9%98%EA%B8%B0.ipynb\" target=\"_parent\"><img src=\"https://colab.research.google.com/assets/colab-badge.svg\" alt=\"Open In Colab\"/></a>"
      ]
    },
    {
      "cell_type": "markdown",
      "source": [
        "> - https://www.acmicpc.net/problem/11728\n",
        "\n",
        "\n",
        "# 제한 상황\n",
        "- 시간 : 1.5초\n",
        "- 메모리 : 256MB\n",
        "\n",
        "# 문제 요약\n",
        "- 정렬되어있는 두 배열 A와 B\n",
        "- 두 배열을 합친 다음 정렬해서 출력\n",
        "\n",
        "# Input\n",
        "-  첫째 줄에 배열 A의 크기 N, 배열 B의 크기 M(1 ≤ N, M ≤ 1,000,000)\n",
        "- 둘째 줄에는 배열 A의 내용이, 셋째 줄에는 배열 B의 내용이 주어짐\n",
        "\n",
        "\n",
        "# 해결과정\n",
        "- 배열 생성\n",
        "- A, B 배열의 포인트를 각각 할당함\n",
        "- 각 포인트가 가리키는 값을 비교함\n",
        "  - 더 작은 값을 새로 생성된 배열에 추가\n",
        "  - 해당 포인트 오른쪽으로 이동\n",
        "\n",
        "- 생성된 배열 출력"
      ],
      "metadata": {
        "id": "-s6TkIzXR9s3"
      }
    },
    {
      "cell_type": "code",
      "execution_count": 7,
      "metadata": {
        "colab": {
          "base_uri": "https://localhost:8080/"
        },
        "id": "wWu8_xyMR5F7",
        "outputId": "823a595a-5077-43c1-f31a-3bc9a01db268"
      },
      "outputs": [
        {
          "output_type": "stream",
          "name": "stdout",
          "text": [
            "2 2\n",
            "3 5\n",
            "2 9\n",
            "2 3 5 9 "
          ]
        }
      ],
      "source": [
        "import sys\n",
        "input = sys.stdin.readline\n",
        "\n",
        "# 입력값\n",
        "N, M = map(int, input().split())\n",
        "a = list(map(int, input().split()))\n",
        "b = list(map(int, input().split()))\n",
        "\n",
        "# 기초 세팅\n",
        "c = []\n",
        "pa, pb = 0, 0\n",
        "\n",
        "# 포인트 옮겨가며 비교\n",
        "while pa <= N-1 and pb <= M-1:\n",
        "  if a[pa] >= b[pb]:\n",
        "    c.append(b[pb])\n",
        "    pb += 1\n",
        "  else:\n",
        "    c.append(a[pa])\n",
        "    pa += 1\n",
        "\n",
        "# 마지막에 남은 부분 갖다 붙이기\n",
        "if pa <= N-1:\n",
        "  c += a[pa:]\n",
        "elif pb <= M-1:\n",
        "  c += b[pb:]\n",
        "\n",
        "print(' '.join(map(str, c)))"
      ]
    },
    {
      "cell_type": "code",
      "source": [],
      "metadata": {
        "id": "mzsngVCBSBlA"
      },
      "execution_count": null,
      "outputs": []
    }
  ]
}