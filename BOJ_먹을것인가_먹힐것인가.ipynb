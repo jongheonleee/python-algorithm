{
  "nbformat": 4,
  "nbformat_minor": 0,
  "metadata": {
    "colab": {
      "provenance": [],
      "authorship_tag": "ABX9TyPJglMg1BF2nU2qnYAneELz",
      "include_colab_link": true
    },
    "kernelspec": {
      "name": "python3",
      "display_name": "Python 3"
    },
    "language_info": {
      "name": "python"
    }
  },
  "cells": [
    {
      "cell_type": "markdown",
      "metadata": {
        "id": "view-in-github",
        "colab_type": "text"
      },
      "source": [
        "<a href=\"https://colab.research.google.com/github/jongheonleee/python-algorithm/blob/main/BOJ_%EB%A8%B9%EC%9D%84%EA%B2%83%EC%9D%B8%EA%B0%80_%EB%A8%B9%ED%9E%90%EA%B2%83%EC%9D%B8%EA%B0%80.ipynb\" target=\"_parent\"><img src=\"https://colab.research.google.com/assets/colab-badge.svg\" alt=\"Open In Colab\"/></a>"
      ]
    },
    {
      "cell_type": "code",
      "execution_count": null,
      "metadata": {
        "id": "-aRrGosh2Did"
      },
      "outputs": [],
      "source": [
        "T = int(input())\n",
        "\n",
        "for _ in range(T):\n",
        "  N, M = list(map(int, input().split()))\n",
        "  A = list(map(int, input().split()))\n",
        "  B = list(map(int, input().split()))\n",
        "\n",
        "  A = sorted(A)\n",
        "  B = sorted(B)\n",
        "\n",
        "  main = 0\n",
        "  sub = 0\n",
        "  count = 0\n",
        "\n",
        "  while main < N:\n",
        "    if sub == M:\n",
        "      count += sub\n",
        "      main += 1\n",
        "    else:\n",
        "      if A[main] > B[sub]:\n",
        "        sub += 1\n",
        "      else:\n",
        "        count += sub\n",
        "        main += 1\n",
        "\n",
        "  print(count)"
      ]
    }
  ]
}