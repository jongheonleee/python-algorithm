{
  "nbformat": 4,
  "nbformat_minor": 0,
  "metadata": {
    "colab": {
      "provenance": [],
      "authorship_tag": "ABX9TyO5Tkhhy5PX1glItHvDcvt5",
      "include_colab_link": true
    },
    "kernelspec": {
      "name": "python3",
      "display_name": "Python 3"
    },
    "language_info": {
      "name": "python"
    }
  },
  "cells": [
    {
      "cell_type": "markdown",
      "metadata": {
        "id": "view-in-github",
        "colab_type": "text"
      },
      "source": [
        "<a href=\"https://colab.research.google.com/github/jongheonleee/python-algorithm/blob/main/%EC%BD%94%ED%85%8C%EB%A5%BC_%EC%9C%84%ED%95%9C_%ED%8C%8C%EC%9D%B4%EC%8D%AC.ipynb\" target=\"_parent\"><img src=\"https://colab.research.google.com/assets/colab-badge.svg\" alt=\"Open In Colab\"/></a>"
      ]
    },
    {
      "cell_type": "code",
      "execution_count": 2,
      "metadata": {
        "colab": {
          "base_uri": "https://localhost:8080/"
        },
        "id": "yBp_fpvy3Yfh",
        "outputId": "7fd0a3c6-f62e-46f1-8a5f-e8af1a38dc4e"
      },
      "outputs": [
        {
          "output_type": "stream",
          "name": "stdout",
          "text": [
            "5.0\n",
            "0.7\n",
            "<class 'float'>\n",
            "<class 'float'>\n"
          ]
        }
      ],
      "source": [
        "# 자료형과 내장 함수\n",
        "a = 5.\n",
        "b = .7\n",
        "\n",
        "print(a)\n",
        "print(b)\n",
        "\n",
        "print(type(a))\n",
        "print(type(b))"
      ]
    },
    {
      "cell_type": "code",
      "source": [
        "# 실수 표현 정확도 한계\n",
        "a = 0.3 + 0.6\n",
        "\n",
        "print(a == 0.9)\n",
        "\n",
        "# 따라서, round(수, 자리수) 반올림 처리를 활용함\n",
        "a = round(0.3 + 0.6, 1)\n",
        "print(a == 0.9)"
      ],
      "metadata": {
        "colab": {
          "base_uri": "https://localhost:8080/"
        },
        "id": "9ZYr4XEX3ki_",
        "outputId": "5a8696dc-1211-4367-c63b-44fe9ad7c8ee"
      },
      "execution_count": 4,
      "outputs": [
        {
          "output_type": "stream",
          "name": "stdout",
          "text": [
            "False\n",
            "True\n"
          ]
        }
      ]
    },
    {
      "cell_type": "code",
      "source": [
        "# str, list, yuple, dict, set\n",
        "\n",
        "### str\n",
        "s = \"hello\"\n",
        "print(s[1])\n",
        "s[1] = 'K' # 불변객체임\n",
        "print(s)"
      ],
      "metadata": {
        "colab": {
          "base_uri": "https://localhost:8080/",
          "height": 216
        },
        "id": "sc_ZV7lt30Cx",
        "outputId": "b4bf6157-d4e4-4286-ea04-80eaf84cad34"
      },
      "execution_count": 5,
      "outputs": [
        {
          "output_type": "stream",
          "name": "stdout",
          "text": [
            "e\n"
          ]
        },
        {
          "output_type": "error",
          "ename": "TypeError",
          "evalue": "'str' object does not support item assignment",
          "traceback": [
            "\u001b[0;31m---------------------------------------------------------------------------\u001b[0m",
            "\u001b[0;31mTypeError\u001b[0m                                 Traceback (most recent call last)",
            "\u001b[0;32m<ipython-input-5-127a331fec74>\u001b[0m in \u001b[0;36m<cell line: 0>\u001b[0;34m()\u001b[0m\n\u001b[1;32m      4\u001b[0m \u001b[0ms\u001b[0m \u001b[0;34m=\u001b[0m \u001b[0;34m\"hello\"\u001b[0m\u001b[0;34m\u001b[0m\u001b[0;34m\u001b[0m\u001b[0m\n\u001b[1;32m      5\u001b[0m \u001b[0mprint\u001b[0m\u001b[0;34m(\u001b[0m\u001b[0ms\u001b[0m\u001b[0;34m[\u001b[0m\u001b[0;36m1\u001b[0m\u001b[0;34m]\u001b[0m\u001b[0;34m)\u001b[0m\u001b[0;34m\u001b[0m\u001b[0;34m\u001b[0m\u001b[0m\n\u001b[0;32m----> 6\u001b[0;31m \u001b[0ms\u001b[0m\u001b[0;34m[\u001b[0m\u001b[0;36m1\u001b[0m\u001b[0;34m]\u001b[0m \u001b[0;34m=\u001b[0m \u001b[0;34m'K'\u001b[0m\u001b[0;34m\u001b[0m\u001b[0;34m\u001b[0m\u001b[0m\n\u001b[0m\u001b[1;32m      7\u001b[0m \u001b[0mprint\u001b[0m\u001b[0;34m(\u001b[0m\u001b[0ms\u001b[0m\u001b[0;34m)\u001b[0m\u001b[0;34m\u001b[0m\u001b[0;34m\u001b[0m\u001b[0m\n",
            "\u001b[0;31mTypeError\u001b[0m: 'str' object does not support item assignment"
          ]
        }
      ]
    },
    {
      "cell_type": "code",
      "source": [
        "### tuple\n",
        "\n",
        "t = (1, 2, 3)\n",
        "t.append(1) # 불변객체임, writable 작업 불가 -> append, remove\n",
        "t.remove(3)\n",
        "t[1]"
      ],
      "metadata": {
        "colab": {
          "base_uri": "https://localhost:8080/",
          "height": 216
        },
        "id": "lhzcYcEC4V9u",
        "outputId": "b0e70955-4ff8-41b8-d5b3-a04c3e92d3f0"
      },
      "execution_count": 7,
      "outputs": [
        {
          "output_type": "error",
          "ename": "AttributeError",
          "evalue": "'tuple' object has no attribute 'append'",
          "traceback": [
            "\u001b[0;31m---------------------------------------------------------------------------\u001b[0m",
            "\u001b[0;31mAttributeError\u001b[0m                            Traceback (most recent call last)",
            "\u001b[0;32m<ipython-input-7-a79b4de05a43>\u001b[0m in \u001b[0;36m<cell line: 0>\u001b[0;34m()\u001b[0m\n\u001b[1;32m      2\u001b[0m \u001b[0;34m\u001b[0m\u001b[0m\n\u001b[1;32m      3\u001b[0m \u001b[0mt\u001b[0m \u001b[0;34m=\u001b[0m \u001b[0;34m(\u001b[0m\u001b[0;36m1\u001b[0m\u001b[0;34m,\u001b[0m \u001b[0;36m2\u001b[0m\u001b[0;34m,\u001b[0m \u001b[0;36m3\u001b[0m\u001b[0;34m)\u001b[0m\u001b[0;34m\u001b[0m\u001b[0;34m\u001b[0m\u001b[0m\n\u001b[0;32m----> 4\u001b[0;31m \u001b[0mt\u001b[0m\u001b[0;34m.\u001b[0m\u001b[0mappend\u001b[0m\u001b[0;34m(\u001b[0m\u001b[0;36m1\u001b[0m\u001b[0;34m)\u001b[0m \u001b[0;31m# writable 작업 불가 -> append, remove\u001b[0m\u001b[0;34m\u001b[0m\u001b[0;34m\u001b[0m\u001b[0m\n\u001b[0m\u001b[1;32m      5\u001b[0m \u001b[0mt\u001b[0m\u001b[0;34m.\u001b[0m\u001b[0mremove\u001b[0m\u001b[0;34m(\u001b[0m\u001b[0;36m3\u001b[0m\u001b[0;34m)\u001b[0m\u001b[0;34m\u001b[0m\u001b[0;34m\u001b[0m\u001b[0m\n\u001b[1;32m      6\u001b[0m \u001b[0mt\u001b[0m\u001b[0;34m[\u001b[0m\u001b[0;36m1\u001b[0m\u001b[0;34m]\u001b[0m\u001b[0;34m\u001b[0m\u001b[0;34m\u001b[0m\u001b[0m\n",
            "\u001b[0;31mAttributeError\u001b[0m: 'tuple' object has no attribute 'append'"
          ]
        }
      ]
    },
    {
      "cell_type": "code",
      "source": [
        "### dict\n",
        "\n",
        "d = {\n",
        "    'name': 'yeonuel',\n",
        "    'age': 28\n",
        "}\n",
        "\n",
        "for k, v in d.items():\n",
        "  print(k, v)\n",
        "\n",
        "d['name'] = 'hanuel'\n",
        "print(d['name'])\n",
        "\n",
        "res = d.pop('age')\n",
        "print(res)\n",
        "\n",
        "print(d)"
      ],
      "metadata": {
        "colab": {
          "base_uri": "https://localhost:8080/"
        },
        "id": "sDyeuHkC4oYk",
        "outputId": "47e7c23d-e79e-46ca-e8e0-5017f915621e"
      },
      "execution_count": 12,
      "outputs": [
        {
          "output_type": "stream",
          "name": "stdout",
          "text": [
            "name yeonuel\n",
            "age 28\n",
            "hanuel\n",
            "28\n",
            "{'name': 'hanuel'}\n"
          ]
        }
      ]
    },
    {
      "cell_type": "code",
      "source": [
        "### set\n",
        "\n",
        "s = {1, 2, 3, 3, 3, 5}\n",
        "print(s)\n",
        "\n",
        "s.add(9)\n",
        "print(s)\n",
        "\n",
        "for e in s:\n",
        "  print(e)"
      ],
      "metadata": {
        "colab": {
          "base_uri": "https://localhost:8080/"
        },
        "id": "dLsKOz7b5L3F",
        "outputId": "b1c57721-ff41-4100-8b70-500094e609e5"
      },
      "execution_count": 15,
      "outputs": [
        {
          "output_type": "stream",
          "name": "stdout",
          "text": [
            "{1, 2, 3, 5}\n",
            "{1, 2, 3, 5, 9}\n",
            "1\n",
            "2\n",
            "3\n",
            "5\n",
            "9\n"
          ]
        }
      ]
    },
    {
      "cell_type": "code",
      "source": [
        "### str 내장함수\n",
        "\n",
        "### 대문자, 소문자\n",
        "s = 'happy yeonuel'\n",
        "print(s.upper()) # 복사본\n",
        "k = s.upper()\n",
        "print(s) # 원본 변경 안됨\n",
        "\n",
        "print(k)\n",
        "print(k.lower())\n",
        "\n",
        "### 특정 원소 위치 찾기\n",
        "print(s.find('s')) # 없으면 -1\n",
        "print(s.find('p')) # 왼쪽 기준 가장 먼저 찾은거 반환\n",
        "\n",
        "### 특정 원소 개수 계산\n",
        "print(s.count('p'))\n",
        "\n",
        "\n",
        "### 문자열 연결\n",
        "k = 'yeonuel is cute!!'\n",
        "print(s + ' ' + k)\n",
        "rev_k = k[::-1]\n",
        "print(rev_k)"
      ],
      "metadata": {
        "colab": {
          "base_uri": "https://localhost:8080/"
        },
        "id": "qXPDnSmh5t01",
        "outputId": "2690bd90-89b8-417c-cbed-9be7bcced327"
      },
      "execution_count": 25,
      "outputs": [
        {
          "output_type": "stream",
          "name": "stdout",
          "text": [
            "HAPPY YEONUEL\n",
            "happy yeonuel\n",
            "HAPPY YEONUEL\n",
            "happy yeonuel\n",
            "-1\n",
            "2\n",
            "2\n",
            "happy yeonuel yeonuel is cute!!\n",
            "!!etuc si leunoey\n"
          ]
        }
      ]
    },
    {
      "cell_type": "code",
      "source": [
        "### list 내장함수\n",
        "a = []\n",
        "a2 = list(range(1, 11)) # [range(1, 11)]로 사용하면 원소 생성안되고 range 객체가 리스트에 저장됨\n",
        "\n",
        "print(a2)\n",
        "\n",
        "### list 2개 연결\n",
        "arr1 = [1, 2, 3]\n",
        "arr2 = [4, 5, 6]\n",
        "arr3 = arr1 + arr2\n",
        "\n",
        "print(arr3)\n",
        "\n",
        "### 원소 추가\n",
        "a = [0] * 10\n",
        "print(a)\n",
        "for i in range(10):\n",
        "  a[i] = i+1\n",
        "\n",
        "print(a)\n",
        "\n",
        "### 원소 삽입\n",
        "a.insert(3, -1)\n",
        "print(a)\n",
        "\n",
        "### 원소 꺼내기\n",
        "print(a.pop())\n",
        "print(a)\n",
        "\n",
        "print(a.pop(3))\n",
        "print(a)\n",
        "\n",
        "### 원소 제거하기\n",
        "a.remove(1)\n",
        "print(a)\n",
        "\n",
        "### 원소 위치 반환\n",
        "print(a.index(5))\n",
        "\n",
        "### 최대, 최소, 총합 반환\n",
        "print(max(a))\n",
        "print(min(a))\n",
        "print(sum(a))\n",
        "\n",
        "### 정렬\n",
        "a = [k for k in range(5)]\n",
        "a.sort()\n",
        "print(a)\n",
        "\n",
        "a.sort(reverse=True)\n",
        "print(a)\n",
        "a.reverse()\n",
        "\n",
        "print(a)\n",
        "\n",
        "a.clear()\n",
        "print(a)"
      ],
      "metadata": {
        "colab": {
          "base_uri": "https://localhost:8080/"
        },
        "id": "pA4ffLwA5_6l",
        "outputId": "a3049d39-0522-4891-bf19-11689bca3210"
      },
      "execution_count": 45,
      "outputs": [
        {
          "output_type": "stream",
          "name": "stdout",
          "text": [
            "[1, 2, 3, 4, 5, 6, 7, 8, 9, 10]\n",
            "[1, 2, 3, 4, 5, 6]\n",
            "[0, 0, 0, 0, 0, 0, 0, 0, 0, 0]\n",
            "[1, 2, 3, 4, 5, 6, 7, 8, 9, 10]\n",
            "[1, 2, 3, -1, 4, 5, 6, 7, 8, 9, 10]\n",
            "10\n",
            "[1, 2, 3, -1, 4, 5, 6, 7, 8, 9]\n",
            "-1\n",
            "[1, 2, 3, 4, 5, 6, 7, 8, 9]\n",
            "[2, 3, 4, 5, 6, 7, 8, 9]\n",
            "3\n",
            "9\n",
            "2\n",
            "44\n",
            "[0, 1, 2, 3, 4]\n",
            "[4, 3, 2, 1, 0]\n",
            "[0, 1, 2, 3, 4]\n",
            "[]\n"
          ]
        }
      ]
    },
    {
      "cell_type": "code",
      "source": [
        "### list 활용하기\n",
        "a = [k for k in range(1, 5+1)]\n",
        "\n",
        "length = len(a)\n",
        "print(length)\n",
        "\n",
        "### enumerate\n",
        "for x in enumerate(a):\n",
        "  print(x)\n",
        "  print(type(x))\n",
        "\n",
        "\n",
        "### all, any\n",
        "if all(60 > x for x in a):\n",
        "  print('all elements are smaller than 60')\n",
        "\n",
        "\n",
        "if any(10 > x for x in a):\n",
        "  print('there is a element is smaller than 10')\n",
        "\n",
        "\n",
        "### 2차원 리스트\n",
        "n = 10\n",
        "m = 5\n",
        "arr = [[0] * m for _ in range(n)] # 10 * 5 2차원 리스트\n",
        "print(arr)"
      ],
      "metadata": {
        "colab": {
          "base_uri": "https://localhost:8080/"
        },
        "id": "iZdByrrn7AaZ",
        "outputId": "da28cf9d-31fe-4135-ba8a-c60f1b580ad6"
      },
      "execution_count": 50,
      "outputs": [
        {
          "output_type": "stream",
          "name": "stdout",
          "text": [
            "5\n",
            "(0, 1)\n",
            "<class 'tuple'>\n",
            "(1, 2)\n",
            "<class 'tuple'>\n",
            "(2, 3)\n",
            "<class 'tuple'>\n",
            "(3, 4)\n",
            "<class 'tuple'>\n",
            "(4, 5)\n",
            "<class 'tuple'>\n",
            "all elements are smaller than 60\n",
            "there is a element is smaller than 10\n",
            "[[0, 0, 0, 0, 0], [0, 0, 0, 0, 0], [0, 0, 0, 0, 0], [0, 0, 0, 0, 0], [0, 0, 0, 0, 0], [0, 0, 0, 0, 0], [0, 0, 0, 0, 0], [0, 0, 0, 0, 0], [0, 0, 0, 0, 0], [0, 0, 0, 0, 0]]\n"
          ]
        }
      ]
    },
    {
      "cell_type": "code",
      "source": [
        "### tuple\n",
        "\n",
        "t = (k for k in range(1, 5+1))\n",
        "\n",
        "for x in t:\n",
        "  print(x)\n",
        "\n",
        "\n",
        "### 튜플에 원소 추가하기 (append, insert 함수 x)\n",
        "t1 = (1, 2, 3, 4, 5)\n",
        "t2 = (6, 7, 8, 9, 10)\n",
        "t3 = t1 + t2\n",
        "\n",
        "print(t3)\n",
        "\n",
        "t4 = t3 + ('a', 'b', 'c') # 서로 다른 타입도 가능\n",
        "print(t4)"
      ],
      "metadata": {
        "colab": {
          "base_uri": "https://localhost:8080/"
        },
        "id": "fGY3uCzQ9Dxn",
        "outputId": "65253e80-aff0-4739-9ad0-7df0c267b91f"
      },
      "execution_count": 59,
      "outputs": [
        {
          "output_type": "stream",
          "name": "stdout",
          "text": [
            "1\n",
            "2\n",
            "3\n",
            "4\n",
            "5\n",
            "(1, 2, 3, 4, 5, 6, 7, 8, 9, 10)\n",
            "(1, 2, 3, 4, 5, 6, 7, 8, 9, 10, 'a', 'b', 'c')\n"
          ]
        }
      ]
    },
    {
      "cell_type": "code",
      "source": [
        "### 튜플 인덱스로 값 조회\n",
        "print(t3[5])\n",
        "print(t3[2:7])"
      ],
      "metadata": {
        "colab": {
          "base_uri": "https://localhost:8080/"
        },
        "id": "hnCkolDY926F",
        "outputId": "b875790f-3e96-46b0-84f1-c8658266c566"
      },
      "execution_count": 56,
      "outputs": [
        {
          "output_type": "stream",
          "name": "stdout",
          "text": [
            "6\n",
            "(3, 4, 5, 6, 7)\n"
          ]
        }
      ]
    },
    {
      "cell_type": "code",
      "source": [
        "### 튜플 값 존재 여부 확인\n",
        "print(1 in t3)\n",
        "print(10000 in t3)\n"
      ],
      "metadata": {
        "colab": {
          "base_uri": "https://localhost:8080/"
        },
        "id": "nX-ulxQo-OsC",
        "outputId": "49cc6b56-1188-4598-ef93-aa1f372ed907"
      },
      "execution_count": 58,
      "outputs": [
        {
          "output_type": "stream",
          "name": "stdout",
          "text": [
            "True\n",
            "False\n"
          ]
        }
      ]
    },
    {
      "cell_type": "code",
      "source": [
        "### 튜플 내장함수\n",
        "t = (1, 2, 3, 4, 5, 6, 7)\n",
        "\n",
        "### 카운팅 처리\n",
        "print(t.count(9))\n",
        "print(t.count(1))\n",
        "\n",
        "t = t + t\n",
        "print(t.count(1))\n",
        "\n",
        "### 인덱싱 처리\n",
        "print(t.index(2)) # 여러 개면 가장 왼쪽 인덱스\n",
        "\n"
      ],
      "metadata": {
        "colab": {
          "base_uri": "https://localhost:8080/"
        },
        "id": "9TB5vBWH-axg",
        "outputId": "09cd8a7f-05de-4838-9951-f9e5698f7033"
      },
      "execution_count": 63,
      "outputs": [
        {
          "output_type": "stream",
          "name": "stdout",
          "text": [
            "0\n",
            "1\n",
            "2\n",
            "1\n"
          ]
        }
      ]
    },
    {
      "cell_type": "code",
      "source": [
        "### 딕셔너리\n",
        "\n",
        "data = dict()\n",
        "data['사과'] = 'Apple'\n",
        "data['바나나'] = 'Banana'\n",
        "data['코코넛'] = 'Coconut'\n",
        "\n",
        "print(data.keys()) # key 만\n",
        "print(data.values()) # value 만"
      ],
      "metadata": {
        "colab": {
          "base_uri": "https://localhost:8080/"
        },
        "id": "U4bxxtzS-taZ",
        "outputId": "29e0e287-6c8b-4d26-cafe-060fdc701baa"
      },
      "execution_count": 65,
      "outputs": [
        {
          "output_type": "stream",
          "name": "stdout",
          "text": [
            "dict_keys(['사과', '바나나', '코코넛'])\n",
            "dict_values(['Apple', 'Banana', 'Coconut'])\n"
          ]
        }
      ]
    },
    {
      "cell_type": "code",
      "source": [
        "### 집합\n",
        "s = {1, 2, 3, 4, 5, 5, 4, 5}\n",
        "print(s)"
      ],
      "metadata": {
        "colab": {
          "base_uri": "https://localhost:8080/"
        },
        "id": "A-3wI0WS_QDd",
        "outputId": "64166aea-b04e-4945-e5c2-02258ee5584a"
      },
      "execution_count": 66,
      "outputs": [
        {
          "output_type": "stream",
          "name": "stdout",
          "text": [
            "{1, 2, 3, 4, 5}\n"
          ]
        }
      ]
    },
    {
      "cell_type": "code",
      "source": [
        "s.add(4)\n",
        "print(s)"
      ],
      "metadata": {
        "colab": {
          "base_uri": "https://localhost:8080/"
        },
        "id": "MyB8_cWa_l9h",
        "outputId": "69b05e76-92ac-4f5f-ce10-eeebee483e4a"
      },
      "execution_count": 67,
      "outputs": [
        {
          "output_type": "stream",
          "name": "stdout",
          "text": [
            "{1, 2, 3, 4, 5}\n"
          ]
        }
      ]
    },
    {
      "cell_type": "code",
      "source": [
        "### 새로운 원소 여러개 추가\n",
        "s.update([5, 6, 7])\n",
        "print(s)"
      ],
      "metadata": {
        "colab": {
          "base_uri": "https://localhost:8080/"
        },
        "id": "yO2JYgyS_om-",
        "outputId": "f1476bfb-4dae-4f8e-ac62-3f7c3408383a"
      },
      "execution_count": 68,
      "outputs": [
        {
          "output_type": "stream",
          "name": "stdout",
          "text": [
            "{1, 2, 3, 4, 5, 6, 7}\n"
          ]
        }
      ]
    },
    {
      "cell_type": "code",
      "source": [
        "s.remove(6)\n",
        "print(s)"
      ],
      "metadata": {
        "colab": {
          "base_uri": "https://localhost:8080/"
        },
        "id": "sndATCDO_u_f",
        "outputId": "536ead5e-aad2-42d8-a323-c08e236a603f"
      },
      "execution_count": 69,
      "outputs": [
        {
          "output_type": "stream",
          "name": "stdout",
          "text": [
            "{1, 2, 3, 4, 5, 7}\n"
          ]
        }
      ]
    },
    {
      "cell_type": "markdown",
      "source": [
        "### 코테에서 유용한 코드"
      ],
      "metadata": {
        "id": "UI_lfzbM_1er"
      }
    },
    {
      "cell_type": "code",
      "source": [
        "### 한 줄에 여러 개의 숫자 입력 받기\n",
        "a, b, c, d = map(int, input().split())\n",
        "print(a, b, c, d)"
      ],
      "metadata": {
        "colab": {
          "base_uri": "https://localhost:8080/"
        },
        "id": "TPgZbKig_zG1",
        "outputId": "d187af3a-9c05-4dca-abc3-655655f51c3a"
      },
      "execution_count": 70,
      "outputs": [
        {
          "output_type": "stream",
          "name": "stdout",
          "text": [
            "1 2 3 4\n",
            "1 2 3 4\n"
          ]
        }
      ]
    },
    {
      "cell_type": "code",
      "source": [
        "### 리스트 원소 한 줄로 입력 받기\n",
        "arr = list(map(int, input().split()))\n",
        "print(arr)\n",
        "\n",
        "arr2 = list(input().split())\n",
        "print(arr2)"
      ],
      "metadata": {
        "colab": {
          "base_uri": "https://localhost:8080/"
        },
        "id": "-6o2Cq6VAAS-",
        "outputId": "aed53e1b-ea20-4c99-d5c6-e3448556ecdc"
      },
      "execution_count": 73,
      "outputs": [
        {
          "output_type": "stream",
          "name": "stdout",
          "text": [
            "1 2 3 4\n",
            "[1, 2, 3, 4]\n",
            "a b c d\n",
            "['a', 'b', 'c', 'd']\n"
          ]
        }
      ]
    },
    {
      "cell_type": "code",
      "source": [
        "### 리스트 중복 제거 & 정렬\n",
        "a = [3, 1, 5, 8, 5, 10, 7, 1]\n",
        "print(a)\n",
        "\n",
        "b = list(set(a))\n",
        "print(f'중복 제거: {b}')\n",
        "\n",
        "c = sorted(list(set(a)))\n",
        "print(f'중복 제거 및 오름차순 정렬: {a}')\n",
        "\n",
        "d = sorted(list(set(a)), reverse=True)\n",
        "print(f'중복 제거 및 내림차순 정렬: {d}')"
      ],
      "metadata": {
        "colab": {
          "base_uri": "https://localhost:8080/"
        },
        "id": "4yQFzvXZAM0N",
        "outputId": "28ce0bbc-7373-47d9-f794-f333626276fc"
      },
      "execution_count": 76,
      "outputs": [
        {
          "output_type": "stream",
          "name": "stdout",
          "text": [
            "[3, 1, 5, 8, 5, 10, 7, 1]\n",
            "중복 제거: [1, 3, 5, 7, 8, 10]\n",
            "중복 제거 및 오름차순 정렬: [3, 1, 5, 8, 5, 10, 7, 1]\n",
            "중복 제거 및 내림차순 정렬: [10, 8, 7, 5, 3, 1]\n"
          ]
        }
      ]
    },
    {
      "cell_type": "code",
      "source": [
        "### 리스트 전체 합과 평균 구하기\n",
        "N = int(input())\n",
        "print(N)\n",
        "a = list(map(int, input().split()))\n",
        "\n",
        "total = sum(a) # for 문 쓰지말고 이거 쓰는게 베스트\n",
        "avg = int(round(total/N, 0))\n",
        "print(avg)"
      ],
      "metadata": {
        "colab": {
          "base_uri": "https://localhost:8080/"
        },
        "id": "YjSL_3YKAcq2",
        "outputId": "51825178-abac-4755-a954-aad5f0a0a6c8"
      },
      "execution_count": 80,
      "outputs": [
        {
          "output_type": "stream",
          "name": "stdout",
          "text": [
            "5\n",
            "5\n",
            "1 2 3 4 5\n",
            "3\n"
          ]
        }
      ]
    },
    {
      "cell_type": "code",
      "source": [
        "### 리스트 반복문에서 리스트의 원소 여러 번 사용할 때\n",
        "scores = [score for score in range(80, 100, 3)]\n",
        "print(scores)\n",
        "\n",
        "for idx, score in enumerate(scores):\n",
        "  if score < 90:\n",
        "    print('B')\n",
        "  elif score < 80:\n",
        "    print('C')\n",
        "  elif score < 70:\n",
        "    print('D')"
      ],
      "metadata": {
        "colab": {
          "base_uri": "https://localhost:8080/"
        },
        "id": "vLaK9upTBLFT",
        "outputId": "166a6266-5cf1-4a46-ab1b-e29eee17bc01"
      },
      "execution_count": 88,
      "outputs": [
        {
          "output_type": "stream",
          "name": "stdout",
          "text": [
            "[80, 83, 86, 89, 92, 95, 98]\n",
            "B\n",
            "B\n",
            "B\n",
            "B\n"
          ]
        }
      ]
    },
    {
      "cell_type": "code",
      "source": [
        "### 리스트 원소 개수 세기\n",
        "s = [1, 2, 3, 4, 3, 2, 1, 2, 4, 5]\n",
        "cnt = {}\n",
        "\n",
        "for x in s:\n",
        "  if x in cnt:\n",
        "    cnt[x] += 1\n",
        "  else :\n",
        "    cnt[x] = 1\n",
        "\n",
        "print(cnt)"
      ],
      "metadata": {
        "colab": {
          "base_uri": "https://localhost:8080/"
        },
        "id": "-JMLbskSBo7b",
        "outputId": "8ebd8c4b-cc79-4726-f2b9-e426cb519ce4"
      },
      "execution_count": 90,
      "outputs": [
        {
          "output_type": "stream",
          "name": "stdout",
          "text": [
            "{1: 2, 2: 3, 3: 2, 4: 2, 5: 1}\n"
          ]
        }
      ]
    },
    {
      "cell_type": "code",
      "source": [
        "### 딕셔너리 value로 key값 찾기\n",
        "for k, v in cnt.items():\n",
        "  if v == 3:\n",
        "    print(k, end='')"
      ],
      "metadata": {
        "colab": {
          "base_uri": "https://localhost:8080/"
        },
        "id": "_j0LsDAOCX5u",
        "outputId": "773cc167-213c-443a-a801-dabad851264e"
      },
      "execution_count": 91,
      "outputs": [
        {
          "output_type": "stream",
          "name": "stdout",
          "text": [
            "2"
          ]
        }
      ]
    },
    {
      "cell_type": "code",
      "source": [
        "### 리스트를 문자열로 변환하기\n",
        "arr = ['H', 'a', 'P', 'p', 'Y']\n",
        "print(''.join(arr))\n",
        "print(type(''.join(arr)))\n",
        "\n",
        "a = ['0', '1', '3', '6']\n",
        "print(int(''.join(a)))"
      ],
      "metadata": {
        "colab": {
          "base_uri": "https://localhost:8080/"
        },
        "id": "cAf3D0u_CnjA",
        "outputId": "a599a0f5-1b42-48ad-c231-a4f5eb4462e1"
      },
      "execution_count": 93,
      "outputs": [
        {
          "output_type": "stream",
          "name": "stdout",
          "text": [
            "HaPpY\n",
            "<class 'str'>\n",
            "136\n"
          ]
        }
      ]
    },
    {
      "cell_type": "code",
      "source": [
        "### 두 변수 값 바꾸기\n",
        "a, b = 1, 2\n",
        "a, b = b, a\n",
        "print(a, b)"
      ],
      "metadata": {
        "colab": {
          "base_uri": "https://localhost:8080/"
        },
        "id": "Ere3WKWrC3uY",
        "outputId": "a2e79d71-1055-485c-950e-8735a40e738b"
      },
      "execution_count": 95,
      "outputs": [
        {
          "output_type": "stream",
          "name": "stdout",
          "text": [
            "2 1\n"
          ]
        }
      ]
    },
    {
      "cell_type": "code",
      "source": [
        "### 딕셔너리 key로 존재 여부 확인\n",
        "d = {'apple', 'banana', 'mango'}\n",
        "\n",
        "if 'mango' in d: # O(N)\n",
        "  print('Yes!!')"
      ],
      "metadata": {
        "colab": {
          "base_uri": "https://localhost:8080/"
        },
        "id": "fakkoNkcDFah",
        "outputId": "f833a773-896e-4970-9470-8e3eb198675f"
      },
      "execution_count": 96,
      "outputs": [
        {
          "output_type": "stream",
          "name": "stdout",
          "text": [
            "Yes!!\n"
          ]
        }
      ]
    },
    {
      "cell_type": "code",
      "source": [
        "### 딕셔너리를 key, value 기준으로 정렬\n",
        "a = {\n",
        "    'TOM': 90,\n",
        "    'Liz': 75,\n",
        "    'John': 67,\n",
        "    'Mia': 92,\n",
        "}\n",
        "\n",
        "print(a.keys())\n",
        "print(list(a.keys()))\n",
        "print(sorted(a.keys()))\n",
        "print(sorted(a.keys(), reverse=True))"
      ],
      "metadata": {
        "colab": {
          "base_uri": "https://localhost:8080/"
        },
        "id": "9QEEMCGmDYup",
        "outputId": "f7d5ad15-2933-43c5-8afd-52f13a7a76e8"
      },
      "execution_count": 98,
      "outputs": [
        {
          "output_type": "stream",
          "name": "stdout",
          "text": [
            "dict_keys(['TOM', 'Liz', 'John', 'Mia'])\n",
            "['TOM', 'Liz', 'John', 'Mia']\n",
            "['John', 'Liz', 'Mia', 'TOM']\n",
            "['TOM', 'Mia', 'Liz', 'John']\n"
          ]
        }
      ]
    },
    {
      "cell_type": "code",
      "source": [
        "### 튜플 자료형으로 리턴\n",
        "print(sorted(a.items()))\n",
        "\n",
        "print(sorted(a.items(), reverse=True))"
      ],
      "metadata": {
        "colab": {
          "base_uri": "https://localhost:8080/"
        },
        "id": "4xhgSARIGtGi",
        "outputId": "fc94397a-3b96-4b65-ab43-7d17547cd8aa"
      },
      "execution_count": 101,
      "outputs": [
        {
          "output_type": "stream",
          "name": "stdout",
          "text": [
            "[('John', 67), ('Liz', 75), ('Mia', 92), ('TOM', 90)]\n",
            "[('TOM', 90), ('Mia', 92), ('Liz', 75), ('John', 67)]\n"
          ]
        }
      ]
    },
    {
      "cell_type": "code",
      "source": [
        "### 람다식 key 값 기준 정렬\n",
        "print(sorted(a.items(), key=lambda x:x[1], reverse=True))\n",
        "\n",
        "### 람다식 value 값 기준 정렬\n",
        "print(sorted(a.items(), key=lambda x:x[1]))\n",
        "print(sorted(a.items(), key=lambda x:x[1], reverse=True))"
      ],
      "metadata": {
        "colab": {
          "base_uri": "https://localhost:8080/"
        },
        "id": "Tf81GbQWG-KK",
        "outputId": "37e13ef1-4876-4590-afdc-c10d813a2ef6"
      },
      "execution_count": 105,
      "outputs": [
        {
          "output_type": "stream",
          "name": "stdout",
          "text": [
            "[('Mia', 92), ('TOM', 90), ('Liz', 75), ('John', 67)]\n",
            "[('John', 67), ('Liz', 75), ('TOM', 90), ('Mia', 92)]\n",
            "[('Mia', 92), ('TOM', 90), ('Liz', 75), ('John', 67)]\n"
          ]
        }
      ]
    },
    {
      "cell_type": "code",
      "source": [
        "### 2차원 리스트 입력 받기\n",
        "N = int(input())\n",
        "print(N)\n",
        "\n",
        "arr2D = list(list(map(int, input().split())) for _ in range(N))"
      ],
      "metadata": {
        "colab": {
          "base_uri": "https://localhost:8080/"
        },
        "id": "ZG_PPR8gHOmx",
        "outputId": "4963bdd8-64b1-4669-b646-39f1519ee5c2"
      },
      "execution_count": 106,
      "outputs": [
        {
          "name": "stdout",
          "output_type": "stream",
          "text": [
            "5\n",
            "5\n",
            "1 2 3 4 5\n",
            "3 4 2 5 6\n",
            "2 2 2 3 4\n",
            "4 5 6 3 2\n",
            "3 3 3 8 6 \n"
          ]
        }
      ]
    },
    {
      "cell_type": "code",
      "source": [
        "print(arr2D)"
      ],
      "metadata": {
        "colab": {
          "base_uri": "https://localhost:8080/"
        },
        "id": "DG3xVW5fHv26",
        "outputId": "5e5e8b82-fae6-4107-c032-c7958fc48827"
      },
      "execution_count": 107,
      "outputs": [
        {
          "output_type": "stream",
          "name": "stdout",
          "text": [
            "[[1, 2, 3, 4, 5], [3, 4, 2, 5, 6], [2, 2, 2, 3, 4], [4, 5, 6, 3, 2], [3, 3, 3, 8, 6]]\n"
          ]
        }
      ]
    },
    {
      "cell_type": "code",
      "source": [
        "### 이분탐색\n",
        "target = int(input())\n",
        "\n",
        "arr = [1, 9, 9, 3, 5, 26, 7, 8, 8, 9, 10]\n",
        "arr.sort()\n",
        "\n",
        "left, right = 0, len(arr) - 1\n",
        "while left < right:\n",
        "  mid = (left + right)//2\n",
        "  curr = arr[mid]\n",
        "\n",
        "  if curr < target:\n",
        "    left += 1\n",
        "  elif curr > target:\n",
        "    right -= 1\n",
        "  else:\n",
        "    print('i got it!!')\n",
        "    break"
      ],
      "metadata": {
        "colab": {
          "base_uri": "https://localhost:8080/"
        },
        "id": "1n4uqzkOH4RI",
        "outputId": "d2fb94e0-bbdd-4d66-b6a0-b943f9088d7b"
      },
      "execution_count": 109,
      "outputs": [
        {
          "output_type": "stream",
          "name": "stdout",
          "text": [
            "10\n",
            "i got it!!\n"
          ]
        }
      ]
    },
    {
      "cell_type": "code",
      "source": [
        "### list 2개로 dict를 생성\n",
        "keys = ['a', 'b', 'c']\n",
        "values = [30, 50, 80]\n",
        "\n",
        "key_val = [keys, values]\n",
        "d = dict(zip(*key_val))\n",
        "print(d)"
      ],
      "metadata": {
        "colab": {
          "base_uri": "https://localhost:8080/"
        },
        "id": "Lb8dCQt4IqsP",
        "outputId": "3aab8473-c4fe-4d9c-b828-ea76cb036028"
      },
      "execution_count": 110,
      "outputs": [
        {
          "output_type": "stream",
          "name": "stdout",
          "text": [
            "{'a': 30, 'b': 50, 'c': 80}\n"
          ]
        }
      ]
    },
    {
      "cell_type": "code",
      "source": [
        "### list 비어있는지 확인\n",
        "arr = []\n",
        "if not arr:\n",
        "  print('empty')\n",
        ""
      ],
      "metadata": {
        "colab": {
          "base_uri": "https://localhost:8080/"
        },
        "id": "fTHYeIYKJDqI",
        "outputId": "a25db0f5-9a44-40de-d8c5-a611d4fdf8fa"
      },
      "execution_count": 111,
      "outputs": [
        {
          "output_type": "stream",
          "name": "stdout",
          "text": [
            "empty\n"
          ]
        }
      ]
    },
    {
      "cell_type": "code",
      "source": [],
      "metadata": {
        "id": "0827qZQHJUwm"
      },
      "execution_count": null,
      "outputs": []
    }
  ]
}