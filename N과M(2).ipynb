{
  "nbformat": 4,
  "nbformat_minor": 0,
  "metadata": {
    "colab": {
      "provenance": []
    },
    "kernelspec": {
      "name": "python3",
      "display_name": "Python 3"
    },
    "language_info": {
      "name": "python"
    }
  },
  "cells": [
    {
      "cell_type": "markdown",
      "source": [
        "# 문제 : N과 M (2)\n",
        "\n",
        "> - https://www.acmicpc.net/problem/15650\n"
      ],
      "metadata": {
        "id": "lByWghEFbulJ"
      }
    },
    {
      "cell_type": "markdown",
      "source": [
        "# 문제 풀이 과정\n",
        "\n",
        "### 문제 이해\n",
        "\n",
        "> - ㅁ ㅁ ㅁ ㅁ ... ㅁ\n",
        "> - 길이가 M임\n",
        "> - ㅁ에는 1~N까지만 허용\n",
        "> - 중복 허용 x, 오름차순으로 구성된 수열\n",
        "> - (1 ≤ M ≤ N ≤ 8)\n",
        "> - 제한시간 1초(크기 최대 1억)\n",
        "\n",
        "### 문제 해결 과정\n",
        "\n",
        "> - 브루트포스, 구현\n",
        "> - 최악의 경우 8^8 = 16777216. 즉, 1억 미만이라 풀이가능함\n",
        "> - 앞에꺼 부터 선정한 다음 뒤에꺼에서 선정할 때 앞에꺼 보다 큰 값들만 선정해나감\n",
        "\n",
        "### 파이썬\n",
        "\n",
        "> - 파이썬의 경우 해당 과정을 구현할 필요 없이 itertools에 combinations 함수 활용하면 됨\n"
      ],
      "metadata": {
        "id": "iCQwRPf4btpI"
      }
    },
    {
      "cell_type": "code",
      "source": [
        "from itertools import combinations\n",
        "\n",
        "N, M = map(int, input().split())\n",
        "\n",
        "for combination in combinations(range(1, N+1), M):\n",
        "  print(*combination)"
      ],
      "metadata": {
        "id": "KogonXDWb819"
      },
      "execution_count": null,
      "outputs": []
    }
  ]
}