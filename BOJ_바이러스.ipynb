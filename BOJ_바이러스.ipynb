{
  "nbformat": 4,
  "nbformat_minor": 0,
  "metadata": {
    "colab": {
      "provenance": [],
      "authorship_tag": "ABX9TyM5J8BXY1/7MwlVoJtw/1B6",
      "include_colab_link": true
    },
    "kernelspec": {
      "name": "python3",
      "display_name": "Python 3"
    },
    "language_info": {
      "name": "python"
    }
  },
  "cells": [
    {
      "cell_type": "markdown",
      "metadata": {
        "id": "view-in-github",
        "colab_type": "text"
      },
      "source": [
        "<a href=\"https://colab.research.google.com/github/jongheonleee/python-algorithm/blob/main/BOJ_%EB%B0%94%EC%9D%B4%EB%9F%AC%EC%8A%A4.ipynb\" target=\"_parent\"><img src=\"https://colab.research.google.com/assets/colab-badge.svg\" alt=\"Open In Colab\"/></a>"
      ]
    },
    {
      "cell_type": "markdown",
      "source": [
        "> - https://www.acmicpc.net/problem/2606\n",
        "\n",
        "# 제한 상황\n",
        "- 시간 : 1초\n",
        "- 메모리 : 128MB\n",
        "\n",
        "# 문제 요약\n",
        "- 웜 바이러스는 네트워크를 통해 전파됨\n",
        "- 웜 바이러스에 걸리면 그 컴퓨터와 네트워크 상에서 연결되어 있는 모든 컴퓨터는 웜 바이러스에 걸리게 됨\n",
        "- 1번 컴퓨터가 웜 바이러스에 걸림. 1번 컴퓨터를 통해 웜 바이러스에 걸리게 되는 컴퓨터의 수를 출력하는 프로그램을 작성\n",
        "\n",
        "# Input\n",
        "- 첫째 줄에는 컴퓨터의 수가 주어짐(1 <= N <= 100)\n",
        "- 둘째 줄에는 네트워크 상에서 직접 연결되어 있는 컴퓨터 쌍의 수가 주어짐\n",
        "- 이어서 그 수만큼 한 줄에 한 쌍씩 네트워크 상에서 직접 연결되어 있는 컴퓨터의 번호 쌍이 주어짐\n",
        "\n",
        "\n",
        "# 해결과정\n",
        "- 그래프 표현\n",
        "- dfs, bfs 알고리즘 적용\n",
        "- 그래프 탐색하면서 바이러스 걸린 노드 체크\n",
        "- 바이러스에 걸린 컴퓨터의 수 출력(1번 노드는 제외해야함)\n",
        "\n",
        "\n",
        "\n"
      ],
      "metadata": {
        "id": "VePEjpR9hm8J"
      }
    },
    {
      "cell_type": "code",
      "execution_count": 2,
      "metadata": {
        "colab": {
          "base_uri": "https://localhost:8080/"
        },
        "id": "A7paRZPShbHC",
        "outputId": "a6d211b9-2eaf-43c1-a83b-6599086afa30"
      },
      "outputs": [
        {
          "output_type": "stream",
          "name": "stdout",
          "text": [
            "7\n",
            "6\n",
            "1 2\n",
            "2 3\n",
            "1 5\n",
            "5 2\n",
            "4 7\n",
            "5 6\n",
            "4\n"
          ]
        }
      ],
      "source": [
        "from collections import deque\n",
        "\n",
        "# 입력\n",
        "N = int(input())\n",
        "M = int(input())\n",
        "adj = [[] for _ in range(N+1)]\n",
        "\n",
        "for _ in range(M):\n",
        "  a, b = map(int, input().split())\n",
        "  adj[a].append(b)\n",
        "  adj[b].append(a)\n",
        "\n",
        "\n",
        "# 알고리즘 적용 - bfs\n",
        "infected = [0] * (N+1)\n",
        "dq = deque([1])\n",
        "\n",
        "# 출력\n",
        "while len(dq) > 0:\n",
        "  curr = dq.popleft()\n",
        "  infected[curr] = 1\n",
        "\n",
        "  for next in adj[curr]:\n",
        "    if infected[next] == 1: continue\n",
        "    dq.append(next)\n",
        "\n",
        "print(sum(infected)-1)"
      ]
    },
    {
      "cell_type": "code",
      "source": [],
      "metadata": {
        "id": "0EBqC45IQB1a"
      },
      "execution_count": null,
      "outputs": []
    }
  ]
}