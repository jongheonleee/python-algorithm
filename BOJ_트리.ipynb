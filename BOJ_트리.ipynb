{
  "nbformat": 4,
  "nbformat_minor": 0,
  "metadata": {
    "colab": {
      "provenance": [],
      "authorship_tag": "ABX9TyM/udZ+r2Qe2DtJnoJC8cPZ",
      "include_colab_link": true
    },
    "kernelspec": {
      "name": "python3",
      "display_name": "Python 3"
    },
    "language_info": {
      "name": "python"
    }
  },
  "cells": [
    {
      "cell_type": "markdown",
      "metadata": {
        "id": "view-in-github",
        "colab_type": "text"
      },
      "source": [
        "<a href=\"https://colab.research.google.com/github/jongheonleee/python-algorithm/blob/main/BOJ_%ED%8A%B8%EB%A6%AC.ipynb\" target=\"_parent\"><img src=\"https://colab.research.google.com/assets/colab-badge.svg\" alt=\"Open In Colab\"/></a>"
      ]
    },
    {
      "cell_type": "markdown",
      "source": [
        "> - https://www.acmicpc.net/problem/1068\n",
        "\n",
        "# 제한 상황\n",
        "- 시간 : 2초\n",
        "- 메모리 : 128 MB\n",
        "\n",
        "# 문제 요약\n",
        "- 트리가 주어졌을 때, 노드 하나를 지움\n",
        "- 남은 트리에서 리프 노드의 개수를 구하는 프로그램을 작성\n",
        "\n",
        "# Input\n",
        "- 첫째 줄에 트리의 노드의 개수 N이 주어짐(N은 50보다 작거나 같은 자연수)\n",
        "- 둘째 줄에는 0번 노드부터 N-1번 노드까지, 만약 부모가 없다면 (루트) -1이 주어짐\n",
        "- 셋째 줄에는 지울 노드의 번호가 주어짐\n",
        "\n",
        "\n",
        "# 해결과정\n",
        "- 트리 배열로 표현하기\n",
        "  - parent 배열, child 배열\n",
        "\n",
        "- 주어진 입력값에 대응되는 subtree 제거\n",
        "  - 이때, 주의할 점은 \"만약에 자식 노드 중에 삭제된 노드가 존재하면 해당 노드 제거해야함\"\n",
        "\n",
        "- leaf 노드 카운트\n",
        "  - child 배열에서 []를 갖고 있는 원소 카운팅\n",
        "\n",
        "\n"
      ],
      "metadata": {
        "id": "VePEjpR9hm8J"
      }
    },
    {
      "cell_type": "code",
      "execution_count": 23,
      "metadata": {
        "colab": {
          "base_uri": "https://localhost:8080/"
        },
        "id": "A7paRZPShbHC",
        "outputId": "0f942365-15a4-4bda-ccd1-d3d4bdc2fbd2"
      },
      "outputs": [
        {
          "output_type": "stream",
          "name": "stdout",
          "text": [
            "2\n",
            "1 -1 \n",
            "0\n",
            "1\n"
          ]
        }
      ],
      "source": [
        "from collections import deque\n",
        "\n",
        "def create_child(parent: list, N: int) -> list:\n",
        "  child = []\n",
        "  for i in range(N):\n",
        "    tmp = []\n",
        "\n",
        "    for j in range(len(parent)):\n",
        "      p = parent[j]\n",
        "      if i == p:\n",
        "        tmp.append(j)\n",
        "\n",
        "    child.append(tmp)\n",
        "  return child\n",
        "\n",
        "def remove_subtree_on_child(child: list, removed: list) -> list:\n",
        "  for i in range(len(removed)):\n",
        "    if removed[i]:\n",
        "      child[i] = []\n",
        "\n",
        "    for j in child[i]: # 만약에 자식 노드 중에 삭제된 노드가 존재하면 해당 노드 제거해야함\n",
        "      if removed[j]:\n",
        "        child[i].remove(j)\n",
        "\n",
        "  return child\n",
        "\n",
        "def find_removed_node(child: list, target: int, N: int) -> list:\n",
        "  removed = [False] * N\n",
        "  q = deque()\n",
        "  q.append(target)\n",
        "\n",
        "  while len(q) > 0:\n",
        "    k = q.popleft()\n",
        "    removed[k] = True\n",
        "\n",
        "    for e in child[k]:\n",
        "      q.append(e)\n",
        "\n",
        "  return removed\n",
        "\n",
        "def count_leaf(child: list, removed: list) -> int:\n",
        "  count = 0\n",
        "  for i in range(len(child)):\n",
        "    if len(child[i]) == 0 and removed[i] == False:\n",
        "      count += 1\n",
        "\n",
        "  return count\n",
        "\n",
        "# 입력값 & 환경 세팅\n",
        "N = int(input())\n",
        "parent = list(map(int, input().split()))\n",
        "target = int(input())\n",
        "\n",
        "# 알고리즘 적용\n",
        "child = create_child(parent, N)\n",
        "removed = find_removed_node(child, target, N)\n",
        "remove_subtree_on_child(child, removed)\n",
        "result = count_leaf(child, removed)\n",
        "print(result)"
      ]
    },
    {
      "cell_type": "code",
      "source": [],
      "metadata": {
        "id": "_S3jVKWKioak"
      },
      "execution_count": null,
      "outputs": []
    }
  ]
}