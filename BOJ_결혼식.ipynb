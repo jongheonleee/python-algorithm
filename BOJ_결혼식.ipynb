{
  "nbformat": 4,
  "nbformat_minor": 0,
  "metadata": {
    "colab": {
      "provenance": [],
      "authorship_tag": "ABX9TyOJi+ijM7e9lbWZ70TRijPS",
      "include_colab_link": true
    },
    "kernelspec": {
      "name": "python3",
      "display_name": "Python 3"
    },
    "language_info": {
      "name": "python"
    }
  },
  "cells": [
    {
      "cell_type": "markdown",
      "metadata": {
        "id": "view-in-github",
        "colab_type": "text"
      },
      "source": [
        "<a href=\"https://colab.research.google.com/github/jongheonleee/python-algorithm/blob/main/BOJ_%EA%B2%B0%ED%98%BC%EC%8B%9D.ipynb\" target=\"_parent\"><img src=\"https://colab.research.google.com/assets/colab-badge.svg\" alt=\"Open In Colab\"/></a>"
      ]
    },
    {
      "cell_type": "markdown",
      "source": [
        "> - https://www.acmicpc.net/problem/5567\n",
        "\n",
        "# 제한 상황\n",
        "- 시간 : 1초\n",
        "- 메모리 : 128MB\n",
        "\n",
        "# 문제 요약\n",
        "- 상근이의 동기는 모두 N명, 이 학생들의 학번은 모두 1부터 N까지(상근이는 1번)\n",
        "- 리스트(친구 관계를 모두 조사한 리스트)를 바탕으로 결혼식에 초대할 사람의 수를 구하는 프로그램을 작성\n",
        "\n",
        "# Input\n",
        "- 첫째 줄에 상근이의 동기의 수 n (2 ≤ n ≤ 500)이 주어짐\n",
        "- 둘째 줄에는 리스트의 길이 m (1 ≤ m ≤ 10000)이 주어짐\n",
        "\n",
        "\n",
        "# 해결과정\n",
        "- 그래프 표현\n",
        "- bfs 그래프 탐색. 이때, 깊이 2까지만 탐색(친구의 친구까지)\n",
        "- 탐색한 친구(노드) 1로 표시\n",
        "- 탐색이 완료되었을 때, 전체 합 반환\n",
        "\n",
        "\n",
        "\n"
      ],
      "metadata": {
        "id": "VePEjpR9hm8J"
      }
    },
    {
      "cell_type": "code",
      "execution_count": 12,
      "metadata": {
        "colab": {
          "base_uri": "https://localhost:8080/"
        },
        "id": "A7paRZPShbHC",
        "outputId": "ab1cc240-9bf6-4d74-99ee-41884b5e585d"
      },
      "outputs": [
        {
          "output_type": "stream",
          "name": "stdout",
          "text": [
            "6 \n",
            "5\n",
            "2 3\n",
            "3 4\n",
            "4 5\n",
            "5 6\n",
            "2 5\n",
            "0\n"
          ]
        }
      ],
      "source": [
        "from collections import deque\n",
        "\n",
        "N = int(input())\n",
        "M = int(input())\n",
        "\n",
        "friends = [[] for _ in range(N+1)]\n",
        "for _ in range(M):\n",
        "  a, b = map(int, input().split())\n",
        "  friends[a].append(b)\n",
        "  friends[b].append(a)\n",
        "\n",
        "invited = [0] * (N+1)\n",
        "dq = deque([1])\n",
        "depth = 0\n",
        "\n",
        "while len(dq) > 0 and depth <= 2:\n",
        "  size = len(dq)\n",
        "\n",
        "  for _ in range(size): # 해당 사이즈 만큼의 노드는 일단 다 순회한 뒤에 다음 레벨로 넘어가야함(depth += 1)\n",
        "    curr = dq.popleft()\n",
        "    invited[curr] = 1\n",
        "\n",
        "    for next in friends[curr]:\n",
        "      if invited[next] == 1: continue\n",
        "      dq.append(next)\n",
        "\n",
        "  depth += 1\n",
        "\n",
        "print(sum(invited)-1)"
      ]
    },
    {
      "cell_type": "code",
      "source": [],
      "metadata": {
        "id": "0EBqC45IQB1a"
      },
      "execution_count": null,
      "outputs": []
    }
  ]
}