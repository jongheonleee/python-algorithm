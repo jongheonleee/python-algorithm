{
  "nbformat": 4,
  "nbformat_minor": 0,
  "metadata": {
    "colab": {
      "provenance": [],
      "authorship_tag": "ABX9TyMtX1GfcdF9g75VHHyM3RJD",
      "include_colab_link": true
    },
    "kernelspec": {
      "name": "python3",
      "display_name": "Python 3"
    },
    "language_info": {
      "name": "python"
    }
  },
  "cells": [
    {
      "cell_type": "markdown",
      "metadata": {
        "id": "view-in-github",
        "colab_type": "text"
      },
      "source": [
        "<a href=\"https://colab.research.google.com/github/jongheonleee/python-algorithm/blob/main/BOJ_%EC%A0%9C%EB%A1%9C.ipynb\" target=\"_parent\"><img src=\"https://colab.research.google.com/assets/colab-badge.svg\" alt=\"Open In Colab\"/></a>"
      ]
    },
    {
      "cell_type": "markdown",
      "source": [
        "> - https://www.acmicpc.net/problem/10773\n",
        "\n",
        "# 제한 상황\n",
        "- 시간 : 1초\n",
        "- 메모리 : 256MB\n",
        "\n",
        "# 문제 요약\n",
        "- 재현이는 잘못된 수를 부를 때마다 0을 외쳐서, 가장 최근에 재민이가 쓴 수를 지우게 시킴\n",
        "- 재민이는 이렇게 모든 수를 받아 적은 후 그 수의 합을 알고 싶어함\n",
        "\n",
        "\n",
        "# Input\n",
        "- 첫 번째 줄에 정수 K가 주어진다. (1 ≤ K ≤ 100,000)\n",
        "\n",
        "\n",
        "# 해결과정\n",
        "- 스택 세팅\n",
        "\n",
        "- 입력값 받기\n",
        "  - 입력값 스택에 기록 push\n",
        "  - 이때, 0이 나오면 pop\n",
        "  - 이를 반복\n",
        "\n",
        "- 스택에 저장된 모든 값을 합산하여 출력\n",
        "\n",
        "\n",
        "\n",
        "\n",
        "\n",
        "\n"
      ],
      "metadata": {
        "id": "lOw1vE9wQBHo"
      }
    },
    {
      "cell_type": "code",
      "execution_count": 27,
      "metadata": {
        "colab": {
          "base_uri": "https://localhost:8080/"
        },
        "id": "T94R1Kt-P6t6",
        "outputId": "72b71d1a-0f82-41b2-934e-712bd63c72be"
      },
      "outputs": [
        {
          "output_type": "stream",
          "name": "stdout",
          "text": [
            "10\n",
            "1\n",
            "3\n",
            "5\n",
            "4\n",
            "0\n",
            "0\n",
            "7\n",
            "00\n",
            "0\n",
            "6\n",
            "7\n"
          ]
        }
      ],
      "source": [
        "stack = []\n",
        "K = int(input())\n",
        "\n",
        "for _ in range(K):\n",
        "  num = int(input())\n",
        "\n",
        "  if num == 0:\n",
        "    stack.pop()\n",
        "  else:\n",
        "    stack.append(num)\n",
        "\n",
        "print(sum(stack))\n"
      ]
    },
    {
      "cell_type": "code",
      "source": [],
      "metadata": {
        "id": "hmQT8ktiQx8V",
        "colab": {
          "base_uri": "https://localhost:8080/"
        },
        "outputId": "1684b32a-567d-4622-86b4-c5c857cb0709"
      },
      "execution_count": 24,
      "outputs": [
        {
          "output_type": "stream",
          "name": "stdout",
          "text": [
            "11\n",
            "10987654321\n",
            "46\n"
          ]
        }
      ]
    },
    {
      "cell_type": "code",
      "source": [],
      "metadata": {
        "id": "9-oxvqYldkv2"
      },
      "execution_count": null,
      "outputs": []
    }
  ]
}