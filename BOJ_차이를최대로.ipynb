{
  "nbformat": 4,
  "nbformat_minor": 0,
  "metadata": {
    "colab": {
      "provenance": [],
      "authorship_tag": "ABX9TyPNBGzssdzWymoLLILXVvpg",
      "include_colab_link": true
    },
    "kernelspec": {
      "name": "python3",
      "display_name": "Python 3"
    },
    "language_info": {
      "name": "python"
    }
  },
  "cells": [
    {
      "cell_type": "markdown",
      "metadata": {
        "id": "view-in-github",
        "colab_type": "text"
      },
      "source": [
        "<a href=\"https://colab.research.google.com/github/jongheonleee/python-algorithm/blob/main/BOJ_%EC%B0%A8%EC%9D%B4%EB%A5%BC%EC%B5%9C%EB%8C%80%EB%A1%9C.ipynb\" target=\"_parent\"><img src=\"https://colab.research.google.com/assets/colab-badge.svg\" alt=\"Open In Colab\"/></a>"
      ]
    },
    {
      "cell_type": "markdown",
      "source": [
        "> - https://www.acmicpc.net/problem/10819\n",
        "\n",
        "\n",
        "# 제한 상황\n",
        "- 1 초\n",
        "- 256 MB\n",
        "\n",
        "# 문제 요약\n",
        "- N(3 ≤ N ≤ 8)개의 정수로 이루어진 배열 A가 주어짐\n",
        "- 배열에 들어있는 정수의 순서를 적절히 바꿔서 다음 식의 최댓값을 구함\n",
        "- |A[0] - A[1]| + |A[1] - A[2]| + ... + |A[N-2] - A[N-1]|\n",
        "\n",
        "# Input\n",
        "- 첫째 줄에 N (3 ≤ N ≤ 8)이 주어짐\n",
        "- 둘째 줄에는 배열 A에 들어있는 정수가 주어짐\n",
        "- 각 원소는 -100 <= k <= 100\n",
        "\n",
        "# 해결과정\n",
        "- 브루트포스활용\n",
        "- ㅁ ㅁ ㅁ ... ㅁ\n",
        "  - 각 지점에 모든 원소 배치시켜보기 -> 최악의 경우 8! = 40320\n",
        "\n",
        "  - 1초 이내에 실행 가능\n",
        "\n",
        "- 모든 순열을 정의하고 각각 계산함\n",
        "  - |A[0] - A[1]| + |A[1] - A[2]| + ... + |A[N-2] - A[N-1]|\n",
        "- 그때의 최대값을 기록하여 출력함\n",
        "- 최대값 출력"
      ],
      "metadata": {
        "id": "iFmQxqNJk_5r"
      }
    },
    {
      "cell_type": "code",
      "execution_count": 16,
      "metadata": {
        "colab": {
          "base_uri": "https://localhost:8080/"
        },
        "id": "CDonx90Uk9rM",
        "outputId": "6decaa07-8958-4c05-c89b-838378e0b173"
      },
      "outputs": [
        {
          "output_type": "stream",
          "name": "stdout",
          "text": [
            "6\n",
            "20 1 15 8 4 10\n",
            "62\n"
          ]
        }
      ],
      "source": [
        "N = int(input())\n",
        "arr = list(map(int, input().split()))\n",
        "\n",
        "def create_permutations(arr: list, vis: list, new_arr: list, depth: int, permutations: list):\n",
        "  if depth == N:\n",
        "    permutations.append(new_arr[:])\n",
        "    return\n",
        "\n",
        "  for i in range(N):\n",
        "    if not vis[i]:\n",
        "      vis[i] = True\n",
        "      new_arr.append(arr[i])\n",
        "\n",
        "      create_permutations(arr, vis, new_arr, depth+1, permutations)\n",
        "\n",
        "      vis[i] = False\n",
        "      new_arr.pop()\n",
        "\n",
        "def calculate(arr: list) -> int:\n",
        "  res = 0\n",
        "  for i in range(N-1):\n",
        "    res += abs(arr[i] - arr[i+1])\n",
        "\n",
        "  return res\n",
        "\n",
        "permutations = []\n",
        "create_permutations(arr, [False] * N, [], 0, permutations)\n",
        "ans = 0\n",
        "\n",
        "\n",
        "for permu in permutations:\n",
        "  res = calculate(permu)\n",
        "  ans = res if res > ans else ans\n",
        "\n",
        "print(ans)\n"
      ]
    },
    {
      "cell_type": "code",
      "source": [],
      "metadata": {
        "id": "AGZM2ElwlCft"
      },
      "execution_count": 12,
      "outputs": []
    }
  ]
}