{
  "nbformat": 4,
  "nbformat_minor": 0,
  "metadata": {
    "colab": {
      "provenance": [],
      "authorship_tag": "ABX9TyPAOyIlcowjVL8yzXZngu++",
      "include_colab_link": true
    },
    "kernelspec": {
      "name": "python3",
      "display_name": "Python 3"
    },
    "language_info": {
      "name": "python"
    }
  },
  "cells": [
    {
      "cell_type": "markdown",
      "metadata": {
        "id": "view-in-github",
        "colab_type": "text"
      },
      "source": [
        "<a href=\"https://colab.research.google.com/github/jongheonleee/python-algorithm/blob/main/BOJ_%ED%9A%8C%EC%82%AC%EB%AC%B8%ED%99%941%5Bx%5D.ipynb\" target=\"_parent\"><img src=\"https://colab.research.google.com/assets/colab-badge.svg\" alt=\"Open In Colab\"/></a>"
      ]
    },
    {
      "cell_type": "markdown",
      "source": [
        "> - https://www.acmicpc.net/problem/14267\n",
        "\n",
        "# 제한 상황\n",
        "- 시간 : 2초\n",
        "- 메모리 : 512 MB\n",
        "\n",
        "# 문제 요약\n",
        "- 상사가 직속 부하를 칭찬하면 그 부하가 부하의 직속 부하를 연쇄적으로 칭찬하는 내리 칭찬\n",
        "- 각자 얼마의 칭찬을 받았는지 출력\n",
        "\n",
        "# Input\n",
        "- 첫째 줄에는 회사의 직원 수 n명, 최초의 칭찬의 횟수 m이 주어짐(2 ≤ n, m ≤ 100,000)\n",
        "- 둘째 줄에는 직원 n명의 직속 상사의 번호가 주어짐 -> 부모 노드 정보  \n",
        "- 다음 m줄에는 직속 상사로부터 칭찬을 받은 직원 번호 i, 칭찬의 수치 w가 주어짐\n",
        "\n",
        "\n",
        "# 해결과정\n",
        "- 트리 배열로 표현, dfs 적용\n",
        "- dfs로 타고 들어가서 내리 칭찬 계산\n",
        "- 매번 dfs할 때 마다 칭찬 기록, 반환\n",
        "\n",
        "\n"
      ],
      "metadata": {
        "id": "VePEjpR9hm8J"
      }
    },
    {
      "cell_type": "code",
      "execution_count": 13,
      "metadata": {
        "colab": {
          "base_uri": "https://localhost:8080/"
        },
        "id": "A7paRZPShbHC",
        "outputId": "e629c9dd-0386-4077-cdd9-5644cf1817c1"
      },
      "outputs": [
        {
          "output_type": "stream",
          "name": "stdout",
          "text": [
            "5 3 \n",
            "-1 1 2 3 4\n",
            "2 2 \n",
            "3 4 \n",
            "5 6\n",
            "[0, 2, 6, 6, 12]\n"
          ]
        }
      ],
      "source": [
        "# 내 풀이 -> 시간초과 O(N * M) -> 100,000^2\n",
        "def dfs(node, reward, score, child, visited): # 이 부분 성능 개선 해야함\n",
        "  visited[node] = True\n",
        "  score[node] += reward\n",
        "\n",
        "  if len(child[node]) == 0:\n",
        "    return\n",
        "\n",
        "  for next in child[node]:\n",
        "    if visited[next]: continue\n",
        "    dfs(next, reward, score, child, visited)\n",
        "\n",
        "\n",
        "def create_child(parent: list, N: int) -> list:\n",
        "  child = [[] for _ in range(N+1)]\n",
        "\n",
        "  for i in range(1, N+1):\n",
        "    p = parent[i-1]\n",
        "    if p == -1: continue\n",
        "    child[p].append(i)\n",
        "\n",
        "  return child\n",
        "\n",
        "\n",
        "# 입력값 & 환경 세팅\n",
        "N, M = map(int, input().split())\n",
        "parent = list(map(int, input().split()))\n",
        "child = create_child(parent, N)\n",
        "score = [0 for _ in range(N+1)]\n",
        "\n",
        "for _ in range(M):\n",
        "  node, reward = map(int, input().split())\n",
        "  visited = [False for _ in range(N+1)]\n",
        "  dfs(node, reward, score, child, visited)\n",
        "\n",
        "# 알고리즘 적용\n",
        "print(score[1:])"
      ]
    },
    {
      "cell_type": "code",
      "source": [
        "# 노드 칭찬 점수 = 부모 노드 칭찬 점수 + 독자적으로 받은 칭찬 점수\n",
        "# 입력값\n",
        "N, M = list(map(int, input().split()))\n",
        "parent = list(map(int, input().split()))\n",
        "\n",
        "for i in range(1, N):\n",
        "  parent[i] -= 1\n",
        "\n",
        "good = [0] * N\n",
        "for _ in range(M):\n",
        "  id, score = list(map(int, input().split()))\n",
        "  good[id-1] += score\n",
        "\n",
        "total_good = [0] * N\n",
        "for i in range(1, N):\n",
        "  total_good[i] = total_good[parent[i]] + good[i]\n",
        "\n",
        "print(*total_good)"
      ],
      "metadata": {
        "id": "_S3jVKWKioak",
        "colab": {
          "base_uri": "https://localhost:8080/",
          "height": 269
        },
        "outputId": "28343863-a13d-4df5-8bfc-c836ee738009"
      },
      "execution_count": 14,
      "outputs": [
        {
          "name": "stdout",
          "output_type": "stream",
          "text": [
            "5 3\n",
            "-1 1 2 3 4\n",
            "2 2. \n"
          ]
        },
        {
          "output_type": "error",
          "ename": "ValueError",
          "evalue": "invalid literal for int() with base 10: '2.'",
          "traceback": [
            "\u001b[0;31m---------------------------------------------------------------------------\u001b[0m",
            "\u001b[0;31mValueError\u001b[0m                                Traceback (most recent call last)",
            "\u001b[0;32m<ipython-input-14-d23f5567141e>\u001b[0m in \u001b[0;36m<cell line: 0>\u001b[0;34m()\u001b[0m\n\u001b[1;32m     10\u001b[0m \u001b[0mgood\u001b[0m \u001b[0;34m=\u001b[0m \u001b[0;34m[\u001b[0m\u001b[0;36m0\u001b[0m\u001b[0;34m]\u001b[0m \u001b[0;34m*\u001b[0m \u001b[0mN\u001b[0m\u001b[0;34m\u001b[0m\u001b[0;34m\u001b[0m\u001b[0m\n\u001b[1;32m     11\u001b[0m \u001b[0;32mfor\u001b[0m \u001b[0m_\u001b[0m \u001b[0;32min\u001b[0m \u001b[0mrange\u001b[0m\u001b[0;34m(\u001b[0m\u001b[0mM\u001b[0m\u001b[0;34m)\u001b[0m\u001b[0;34m:\u001b[0m\u001b[0;34m\u001b[0m\u001b[0;34m\u001b[0m\u001b[0m\n\u001b[0;32m---> 12\u001b[0;31m   \u001b[0mid\u001b[0m\u001b[0;34m,\u001b[0m \u001b[0mscore\u001b[0m \u001b[0;34m=\u001b[0m \u001b[0mlist\u001b[0m\u001b[0;34m(\u001b[0m\u001b[0mmap\u001b[0m\u001b[0;34m(\u001b[0m\u001b[0mint\u001b[0m\u001b[0;34m,\u001b[0m \u001b[0minput\u001b[0m\u001b[0;34m(\u001b[0m\u001b[0;34m)\u001b[0m\u001b[0;34m.\u001b[0m\u001b[0msplit\u001b[0m\u001b[0;34m(\u001b[0m\u001b[0;34m)\u001b[0m\u001b[0;34m)\u001b[0m\u001b[0;34m)\u001b[0m\u001b[0;34m\u001b[0m\u001b[0;34m\u001b[0m\u001b[0m\n\u001b[0m\u001b[1;32m     13\u001b[0m   \u001b[0mgood\u001b[0m\u001b[0;34m[\u001b[0m\u001b[0mid\u001b[0m\u001b[0;34m-\u001b[0m\u001b[0;36m1\u001b[0m\u001b[0;34m]\u001b[0m \u001b[0;34m+=\u001b[0m \u001b[0mscore\u001b[0m\u001b[0;34m\u001b[0m\u001b[0;34m\u001b[0m\u001b[0m\n\u001b[1;32m     14\u001b[0m \u001b[0;34m\u001b[0m\u001b[0m\n",
            "\u001b[0;31mValueError\u001b[0m: invalid literal for int() with base 10: '2.'"
          ]
        }
      ]
    },
    {
      "cell_type": "code",
      "source": [],
      "metadata": {
        "id": "QZHjp3t2vijt"
      },
      "execution_count": null,
      "outputs": []
    }
  ]
}