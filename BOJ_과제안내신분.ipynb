{
  "nbformat": 4,
  "nbformat_minor": 0,
  "metadata": {
    "colab": {
      "provenance": [],
      "authorship_tag": "ABX9TyN9WRRpUgsPIsL/dSTROlJ8",
      "include_colab_link": true
    },
    "kernelspec": {
      "name": "python3",
      "display_name": "Python 3"
    },
    "language_info": {
      "name": "python"
    }
  },
  "cells": [
    {
      "cell_type": "markdown",
      "metadata": {
        "id": "view-in-github",
        "colab_type": "text"
      },
      "source": [
        "<a href=\"https://colab.research.google.com/github/jongheonleee/python-algorithm/blob/main/BOJ_%EA%B3%BC%EC%A0%9C%EC%95%88%EB%82%B4%EC%8B%A0%EB%B6%84.ipynb\" target=\"_parent\"><img src=\"https://colab.research.google.com/assets/colab-badge.svg\" alt=\"Open In Colab\"/></a>"
      ]
    },
    {
      "cell_type": "markdown",
      "source": [
        "> - https://www.acmicpc.net/source/91227890\n",
        "\n",
        "# 제한 상황\n",
        "- 시간 : 1초\n",
        "- 메모리 : 128MB\n",
        "\n",
        "# 문제 요약\n",
        "- 학생 수 30\n",
        "- 과제 28명 제출, 2명 제출안함\n",
        "- 제출안한 2명의 출석번호를 구해라\n",
        "\n",
        "# Input\n",
        "- 28줄로 각 제출자(학생)의 출석번호 n(1 ≤ n ≤ 30)가 한 줄에 하나씩 주어짐\n",
        "\n",
        "# 해결과정\n",
        "- 배열 세팅\n",
        "- 입력값 받기\n",
        "  - 출석번호 체크\n",
        "\n",
        "- 체크되지 않은 출석번호 출력\n",
        "\n",
        "\n"
      ],
      "metadata": {
        "id": "lOw1vE9wQBHo"
      }
    },
    {
      "cell_type": "code",
      "execution_count": 3,
      "metadata": {
        "colab": {
          "base_uri": "https://localhost:8080/"
        },
        "id": "T94R1Kt-P6t6",
        "outputId": "ac38507c-4784-4cbc-d4cb-56246e44a887"
      },
      "outputs": [
        {
          "output_type": "stream",
          "name": "stdout",
          "text": [
            "3\n",
            "1\n",
            "4\n",
            "5\n",
            "7\n",
            "9\n",
            "6\n",
            "10\n",
            "11\n",
            "12\n",
            "13\n",
            "14\n",
            "15\n",
            "16\n",
            "17\n",
            "18\n",
            "19\n",
            "20\n",
            "21\n",
            "22\n",
            "23\n",
            "24\n",
            "25\n",
            "26\n",
            "27\n",
            "28\n",
            "29\n",
            "30\n",
            "0\n",
            "2\n",
            "8\n"
          ]
        }
      ],
      "source": [
        "check = [0 for _ in range(31)]\n",
        "\n",
        "for _ in range(28):\n",
        "  num = int(input())\n",
        "  check[num] = 1\n",
        "\n",
        "for idx, ch in enumerate(check):\n",
        "  if idx != 0 and ch == 0  :\n",
        "    print(idx)\n",
        ""
      ]
    },
    {
      "cell_type": "code",
      "source": [],
      "metadata": {
        "id": "hmQT8ktiQx8V"
      },
      "execution_count": null,
      "outputs": []
    }
  ]
}