{
  "nbformat": 4,
  "nbformat_minor": 0,
  "metadata": {
    "colab": {
      "provenance": [],
      "authorship_tag": "ABX9TyMtJQoXIaALNMOBIIxc66Vv",
      "include_colab_link": true
    },
    "kernelspec": {
      "name": "python3",
      "display_name": "Python 3"
    },
    "language_info": {
      "name": "python"
    }
  },
  "cells": [
    {
      "cell_type": "markdown",
      "metadata": {
        "id": "view-in-github",
        "colab_type": "text"
      },
      "source": [
        "<a href=\"https://colab.research.google.com/github/jongheonleee/python-algorithm/blob/main/BOJ_%EC%95%8C%ED%8C%8C%EB%B2%B3%EC%B0%BE%EA%B8%B0.ipynb\" target=\"_parent\"><img src=\"https://colab.research.google.com/assets/colab-badge.svg\" alt=\"Open In Colab\"/></a>"
      ]
    },
    {
      "cell_type": "markdown",
      "source": [
        "> - https://www.acmicpc.net/problem/10809\n",
        "\n",
        "# 제한 상황\n",
        "- 시간 : 1초\n",
        "- 메모리 : 256MB\n",
        "\n",
        "# 문제 요약\n",
        "- 소문자로만 이루어진 S\n",
        "- 각 알파벳에 대해 S에 포함되어 있는 경우 처음 등장하는 위치를, 포함되어 있지 않은 경우 -1\n",
        "\n",
        "\n",
        "# Input\n",
        "- 첫째 줄에 단어 S가 주어짐\n",
        "- S는 길이가 100 이하, 소문자로만 구성됨\n",
        "\n",
        "# 해결과정\n",
        "- 배열 세팅\n",
        "- 입력 받음\n",
        "\n",
        "- 단어에서 각 문자 순회\n",
        "  - 문자에 대해서 인덱스 변환\n",
        "  - 해당 인덱스가 -1인 경우, 해당 문자의 위치값 저장\n",
        "\n",
        "\n",
        "- 배열 출력\n",
        "\n",
        "\n",
        "\n",
        "\n"
      ],
      "metadata": {
        "id": "lOw1vE9wQBHo"
      }
    },
    {
      "cell_type": "code",
      "execution_count": 17,
      "metadata": {
        "colab": {
          "base_uri": "https://localhost:8080/"
        },
        "id": "T94R1Kt-P6t6",
        "outputId": "43ca5ffe-df58-4da2-cff5-b759d589db9c"
      },
      "outputs": [
        {
          "output_type": "stream",
          "name": "stdout",
          "text": [
            "baekjoon\n",
            "1 0 -1 -1 2 -1 -1 -1 -1 4 3 -1 -1 7 5 -1 -1 -1 -1 -1 -1 -1 -1 -1 -1 -1 "
          ]
        }
      ],
      "source": [
        "positions = [-1] * 26\n",
        "\n",
        "def convertToIdx(ch): # 해당 부분이 핵심 -> 아스키 코드를 인덱스로서 활용하기\n",
        "  return ord(ch) - ord('a')\n",
        "\n",
        "S = str(input())\n",
        "\n",
        "for pos, ch in enumerate(S):\n",
        "  idx = convertToIdx(ch)\n",
        "  if positions[idx] == -1:\n",
        "    positions[idx] = pos\n",
        "\n",
        "for pos in positions:\n",
        "  print(pos, end=' ')\n",
        "\n"
      ]
    },
    {
      "cell_type": "code",
      "source": [],
      "metadata": {
        "id": "hmQT8ktiQx8V"
      },
      "execution_count": null,
      "outputs": []
    }
  ]
}