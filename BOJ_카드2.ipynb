{
  "nbformat": 4,
  "nbformat_minor": 0,
  "metadata": {
    "colab": {
      "provenance": [],
      "authorship_tag": "ABX9TyNWLd/gnm0lOlTApMYDPo5V",
      "include_colab_link": true
    },
    "kernelspec": {
      "name": "python3",
      "display_name": "Python 3"
    },
    "language_info": {
      "name": "python"
    }
  },
  "cells": [
    {
      "cell_type": "markdown",
      "metadata": {
        "id": "view-in-github",
        "colab_type": "text"
      },
      "source": [
        "<a href=\"https://colab.research.google.com/github/jongheonleee/python-algorithm/blob/main/BOJ_%EC%B9%B4%EB%93%9C2.ipynb\" target=\"_parent\"><img src=\"https://colab.research.google.com/assets/colab-badge.svg\" alt=\"Open In Colab\"/></a>"
      ]
    },
    {
      "cell_type": "markdown",
      "source": [
        "> - https://www.acmicpc.net/problem/2164\n",
        "# 제한 상황\n",
        "- 시간 : 2초\n",
        "- 메모리 : 128MB\n",
        "\n",
        "# 문제 요약\n",
        "-  1번 카드가 제일 위에, N번 카드가 제일 아래인 상태로 순서대로 카드가 놓여 있음\n",
        "- 제일 위에 있는 카드를 바닥에 버림\n",
        "- 두번째 카드를 제일 아래에 있는 카드 밑으로 옮김\n",
        "- 위 과정을 카드 1장이 남을 때까지 반복\n",
        "\n",
        "# Input\n",
        "- 첫째 줄에 정수 N(1 ≤ N ≤ 500,000)이 주어짐\n",
        "\n",
        "\n",
        "# 해결과정\n",
        "- deque 세팅\n",
        "- 숫자 삽입 1, 2, ... n-1, n 순으로\n",
        "\n",
        "- 숫자 1장이 남을 때 까지 반복\n",
        "  - 맨위 카드 버림\n",
        "  - 두번째 카드 뒤로 보냄\n",
        "\n",
        "- 마지막 한장 출력\n"
      ],
      "metadata": {
        "id": "lOw1vE9wQBHo"
      }
    },
    {
      "cell_type": "code",
      "source": [
        "from collections import deque\n",
        "\n",
        "N = int(input())\n",
        "de = deque([(i+1) for i in range(N)])\n",
        "\n",
        "\n",
        "while len(de) > 1 :\n",
        "  first = de.popleft()\n",
        "  second = de.popleft()\n",
        "  de.append(second)\n",
        "\n",
        "print(de[0])\n",
        "\n"
      ],
      "metadata": {
        "colab": {
          "base_uri": "https://localhost:8080/"
        },
        "id": "sIcDqsNpRoFr",
        "outputId": "cb8b981d-f6d7-4e18-a50e-54d417825731"
      },
      "execution_count": 71,
      "outputs": [
        {
          "output_type": "stream",
          "name": "stdout",
          "text": [
            "6\n",
            "1\n",
            "4\n"
          ]
        }
      ]
    },
    {
      "cell_type": "code",
      "source": [],
      "metadata": {
        "id": "lsfAf8RDR7KR"
      },
      "execution_count": null,
      "outputs": []
    }
  ]
}