{
  "nbformat": 4,
  "nbformat_minor": 0,
  "metadata": {
    "colab": {
      "provenance": [],
      "authorship_tag": "ABX9TyMGmr8Yu3rZb+kFk67SIXPF",
      "include_colab_link": true
    },
    "kernelspec": {
      "name": "python3",
      "display_name": "Python 3"
    },
    "language_info": {
      "name": "python"
    }
  },
  "cells": [
    {
      "cell_type": "markdown",
      "metadata": {
        "id": "view-in-github",
        "colab_type": "text"
      },
      "source": [
        "<a href=\"https://colab.research.google.com/github/jongheonleee/python-algorithm/blob/main/BOJ_%EB%82%98%EB%A8%B8%EC%A7%80.ipynb\" target=\"_parent\"><img src=\"https://colab.research.google.com/assets/colab-badge.svg\" alt=\"Open In Colab\"/></a>"
      ]
    },
    {
      "cell_type": "markdown",
      "source": [
        "> - https://www.acmicpc.net/problem/3052\n",
        "\n",
        "# 제한 상황\n",
        "- 시간 : 1초\n",
        "- 메모리 : 128MB\n",
        "\n",
        "# 문제 요약\n",
        "- 10개 수 입력\n",
        "- 42로 나눈 나머지 계산\n",
        "- 이때, 서로 다른 값이 몇개 있는지 카운팅\n",
        "\n",
        "# Input\n",
        "- 첫째 줄부터 열번째 줄 까지 숫자가 한 줄에 하나씩 주어짐\n",
        "- (0 <= k <= 1000)\n",
        "\n",
        "# 해결과정\n",
        "- 배열 세팅\n",
        "- 입력 받음\n",
        "  - 입력값 % 42 계산\n",
        "  - 계산된 값을 인덱스로 여기고 체킹(숫자 1)\n",
        "\n",
        "- 배열의 전체 합 구하기\n",
        "\n",
        "\n",
        "\n",
        "\n"
      ],
      "metadata": {
        "id": "lOw1vE9wQBHo"
      }
    },
    {
      "cell_type": "code",
      "execution_count": 5,
      "metadata": {
        "colab": {
          "base_uri": "https://localhost:8080/"
        },
        "id": "T94R1Kt-P6t6",
        "outputId": "f45a86e6-0829-4b75-ad73-c0586a5b7a32"
      },
      "outputs": [
        {
          "output_type": "stream",
          "name": "stdout",
          "text": [
            "42\n",
            "84\n",
            "252\n",
            "420\n",
            "126\n",
            "42\n",
            "84\n",
            "420\n",
            "126\n",
            "840\n",
            "1\n"
          ]
        }
      ],
      "source": [
        "check = [0] * 42\n",
        "\n",
        "for _ in range(10):\n",
        "  num = int(input())\n",
        "  r = num % 42\n",
        "  check[r] = 1\n",
        "\n",
        "print(sum(check))\n"
      ]
    },
    {
      "cell_type": "code",
      "source": [],
      "metadata": {
        "id": "hmQT8ktiQx8V"
      },
      "execution_count": null,
      "outputs": []
    }
  ]
}