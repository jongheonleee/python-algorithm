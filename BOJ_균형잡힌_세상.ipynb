{
  "nbformat": 4,
  "nbformat_minor": 0,
  "metadata": {
    "colab": {
      "provenance": [],
      "authorship_tag": "ABX9TyMKJM0jY/56y+BxBEsyZSCX",
      "include_colab_link": true
    },
    "kernelspec": {
      "name": "python3",
      "display_name": "Python 3"
    },
    "language_info": {
      "name": "python"
    }
  },
  "cells": [
    {
      "cell_type": "markdown",
      "metadata": {
        "id": "view-in-github",
        "colab_type": "text"
      },
      "source": [
        "<a href=\"https://colab.research.google.com/github/jongheonleee/python-algorithm/blob/main/BOJ_%EA%B7%A0%ED%98%95%EC%9E%A1%ED%9E%8C_%EC%84%B8%EC%83%81.ipynb\" target=\"_parent\"><img src=\"https://colab.research.google.com/assets/colab-badge.svg\" alt=\"Open In Colab\"/></a>"
      ]
    },
    {
      "cell_type": "markdown",
      "source": [
        "> - https://www.acmicpc.net/problem/4949\n",
        "\n",
        "# 제한 상황\n",
        "- 시간 : 1초\n",
        "- 메모리 : 128MB\n",
        "\n",
        "# 문제 요약\n",
        "- 어떤 문자열이 주어졌을 때, 괄호들의 균형이 잘 맞춰져 있는지 판단\n",
        "- 소괄호(\"()\") 와 대괄호(\"[]\")로 2종류\n",
        "\n",
        "\n",
        "\n",
        "# Input\n",
        "- 각 문자열은 영문 알파벳, 공백, 소괄호(\"( )\"), 대괄호(\"[ ]\")로 이루어져 있으며, 온점(\".\")으로 끝나고, 길이는 100글자보다 작거나 같다.\n",
        "- 온점 하나(\".\")는 종료조건\n",
        "\n",
        "\n",
        "\n",
        "# 해결과정\n",
        "- 스택 세팅\n",
        "- 각 문자열을 입력받음\n",
        "  - 2종류의 괄호 중 열린 괄호만 스택에 포함\n",
        "  - 닫힌 괄호 나오면 pop해서 짝이 맞는지 확인\n",
        "    - 스택이 비어있다면, no\n",
        "    - 짝이 다르다면, no\n",
        "  - 문자열 끝에 도달했을 때,\n",
        "    - 스택이 비어있지 않다면, no\n",
        "    - 스택이 비어있으면, yes\n",
        "  - 이 과정을 \".\" 입력값이 들어올때까지 반복\n",
        "\n",
        "- 위 과정을 모두 통과하면 yes 출력\n",
        "\n",
        "\n",
        "\n",
        "\n",
        "\n",
        "\n",
        "\n"
      ],
      "metadata": {
        "id": "lOw1vE9wQBHo"
      }
    },
    {
      "cell_type": "code",
      "execution_count": 40,
      "metadata": {
        "colab": {
          "base_uri": "https://localhost:8080/"
        },
        "id": "T94R1Kt-P6t6",
        "outputId": "a061a971-4cba-4977-8f61-d4bb0dd88547"
      },
      "outputs": [
        {
          "name": "stdout",
          "output_type": "stream",
          "text": [
            "So when I die (the [first] I will see in (heaven) is a score list). [ first in ] ( first out ).\n",
            "yes\n",
            "yes\n",
            "Half Moon tonight (At least it is better than no Moon at all]. A rope may form )( a trail in a maze.\n",
            "no\n",
            "Help( I[m being held prisoner in a fortune cookie factory)].\n",
            "no\n",
            "([ (([( [ ] ) ( ) (( ))] )) ]).\n",
            "yes\n",
            " .\n",
            "yes\n",
            ".\n"
          ]
        }
      ],
      "source": [
        "def is_done(S: str) -> bool:\n",
        "  return S == \".\"\n",
        "\n",
        "def is_valid_brackets(ch: str, top: str) -> bool:\n",
        "  return top == '(' if ch == ')' else top == '['\n",
        "\n",
        "def is_open_brackets(ch: str) -> bool:\n",
        "  return ch == '(' or ch == '['\n",
        "\n",
        "def is_close_brackets(ch: str) -> bool:\n",
        "  return ch == ')' or ch == ']'\n",
        "\n",
        "def is_empty_stack(stack: list) -> bool:\n",
        "  return len(stack) == 0\n",
        "\n",
        "while True:\n",
        "  S = input()\n",
        "\n",
        "  if is_done(S):\n",
        "    break\n",
        "\n",
        "  stack = []\n",
        "\n",
        "  for ch in S:\n",
        "    if is_open_brackets(ch):\n",
        "      stack.append(ch)\n",
        "\n",
        "    elif is_close_brackets(ch):\n",
        "      if is_empty_stack(stack):\n",
        "        print(\"no\")\n",
        "        break\n",
        "\n",
        "      top = stack.pop(-1)\n",
        "\n",
        "      if not is_valid_brackets(ch, top) :\n",
        "        print(\"no\")\n",
        "        break\n",
        "\n",
        "    elif ch == '.':\n",
        "      if is_empty_stack(stack):\n",
        "        print(\"yes\")\n",
        "      else:\n",
        "        print(\"no\")\n",
        "\n",
        "\n"
      ]
    },
    {
      "cell_type": "code",
      "source": [],
      "metadata": {
        "id": "yugslxxfmPpn"
      },
      "execution_count": null,
      "outputs": []
    }
  ]
}