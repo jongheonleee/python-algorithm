{
  "nbformat": 4,
  "nbformat_minor": 0,
  "metadata": {
    "colab": {
      "provenance": [],
      "authorship_tag": "ABX9TyMHTol+PRo2urcAnYPms2yh",
      "include_colab_link": true
    },
    "kernelspec": {
      "name": "python3",
      "display_name": "Python 3"
    },
    "language_info": {
      "name": "python"
    }
  },
  "cells": [
    {
      "cell_type": "markdown",
      "metadata": {
        "id": "view-in-github",
        "colab_type": "text"
      },
      "source": [
        "<a href=\"https://colab.research.google.com/github/jongheonleee/python-algorithm/blob/main/BOJ_ATMipynb.ipynb\" target=\"_parent\"><img src=\"https://colab.research.google.com/assets/colab-badge.svg\" alt=\"Open In Colab\"/></a>"
      ]
    },
    {
      "cell_type": "markdown",
      "source": [
        "> - https://www.acmicpc.net/problem/11399\n",
        "\n",
        "# 제한 상황\n",
        "- 시간 : 1초\n",
        "- 메모리 : 256MB\n",
        "\n",
        "# 문제 요약\n",
        "- ATM앞에 N명의 사람들이 줄을 서있음.\n",
        "- 사람은 1번부터 N번까지 번호가 매겨져 있으며, i번 사람이 돈을 인출하는데 걸리는 시간은 Pi분.\n",
        "- 각 사람이 돈을 인출하는데 필요한 시간의 합의 최솟값을 구하는 프로그램을 작성\n",
        "\n",
        "# Input\n",
        "- 첫째 줄에 사람의 수 N(1 ≤ N ≤ 1,000)이 주어짐\n",
        "- 둘째 줄에는 각 사람이 돈을 인출하는데 걸리는 시간 Pi가 주어짐. (1 ≤ Pi ≤ 1,000)\n",
        "\n",
        "# 해결과정\n",
        "- 그리디 알고리즘 활용\n",
        "- i번째에서 최선의 선택\n",
        "  - 가장 적은 시간이 필요한 사람 배치\n",
        "\n",
        "- 총합(누적합) 계산 및 반환"
      ],
      "metadata": {
        "id": "IVP1A5o82iOZ"
      }
    },
    {
      "cell_type": "code",
      "execution_count": 4,
      "metadata": {
        "id": "-aRrGosh2Did",
        "colab": {
          "base_uri": "https://localhost:8080/"
        },
        "outputId": "278a5f17-d30e-469e-a826-0493e4307cc8"
      },
      "outputs": [
        {
          "output_type": "stream",
          "name": "stdout",
          "text": [
            "5\n",
            "3 1 4 3 2\n",
            "32\n"
          ]
        }
      ],
      "source": [
        "N = int(input())\n",
        "p = list(map(int, input().split()))\n",
        "\n",
        "sum, acc = 0, 0\n",
        "p.sort()\n",
        "\n",
        "for t in p:\n",
        "  acc += t\n",
        "  sum += acc\n",
        "\n",
        "print(sum)\n"
      ]
    },
    {
      "cell_type": "code",
      "source": [],
      "metadata": {
        "id": "SDd0S2k54LcL"
      },
      "execution_count": null,
      "outputs": []
    }
  ]
}