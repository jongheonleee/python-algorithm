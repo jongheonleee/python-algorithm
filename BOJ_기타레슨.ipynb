{
  "nbformat": 4,
  "nbformat_minor": 0,
  "metadata": {
    "colab": {
      "provenance": [],
      "authorship_tag": "ABX9TyNt/DHG9+hLYQGaGlZwQpwf",
      "include_colab_link": true
    },
    "kernelspec": {
      "name": "python3",
      "display_name": "Python 3"
    },
    "language_info": {
      "name": "python"
    }
  },
  "cells": [
    {
      "cell_type": "markdown",
      "metadata": {
        "id": "view-in-github",
        "colab_type": "text"
      },
      "source": [
        "<a href=\"https://colab.research.google.com/github/jongheonleee/python-algorithm/blob/main/BOJ_%EA%B8%B0%ED%83%80%EB%A0%88%EC%8A%A8.ipynb\" target=\"_parent\"><img src=\"https://colab.research.google.com/assets/colab-badge.svg\" alt=\"Open In Colab\"/></a>"
      ]
    },
    {
      "cell_type": "markdown",
      "source": [
        "> - https://www.acmicpc.net/problem/2343\n",
        "\n",
        "# 제한 상황\n",
        "- 시간 : 2초\n",
        "- 메모리 : 128MB\n",
        "\n",
        "# 문제 요약\n",
        "- N개의 강의의 수\n",
        "- i번 강의와 j번 강의를 같은 블루레이에 녹화하려면 i와 j 사이의 모든 강의도 같은 블루레이에 녹화해야함\n",
        "-  M개의 블루레이에 모든 기타 강의 동영상을 녹화하기로 했음\n",
        "- 블루레이의 크기(녹화 가능한 길이)를 최소로 하려고 함\n",
        "- (M개의 블루레이는 모두 같은 크기)\n",
        "\n",
        "# Input\n",
        "- 첫째 줄에 강의의 수 N (1 ≤ N ≤ 100,000)과 M (1 ≤ M ≤ N)이 주어짐\n",
        "- 다음 줄에는 강토의 기타 강의의 길이가 강의 순서대로 분 단위로(자연수)로 주어짐(1 <= k <= 10,000)\n",
        "\n",
        "\n",
        "# 해결과정\n",
        "- 이분탐색 활용\n",
        "\n",
        "- 블루레이의 크기 후보군 범위를 산정함\n",
        "  - 강의시간 최대값 ~ N개 강의의 총합\n",
        "\n",
        "- left = max, right = sum 이라고 가정\n",
        "- 밑의 과정을 left와 right가 엇갈릴 때 까지 반복  \n",
        "  - 그때의 중앙값을 선정된 블루레이 크기 -> k  \n",
        "  - 이때, m개의 블루레이의 크기를 k로 가정\n",
        "  - 모든 강의를 담을 수 있는지 계산\n",
        "    - 담을 수 있는 경우, 해당 값을 기록하고 right를 mid - 1 로 옮김(크기 축소)\n",
        "    - 담을 수 없는 경우, left를 mid + 1로 옮김(크기 확대)\n",
        "\n",
        "- 기록된 값 출력"
      ],
      "metadata": {
        "id": "lOw1vE9wQBHo"
      }
    },
    {
      "cell_type": "code",
      "source": [
        "# 입력값\n",
        "line1 = input().split()\n",
        "line2 = input().split()\n",
        "\n",
        "# 세팅\n",
        "N, M = int(line1[0]), int(line1[1])\n",
        "lectures = [0] * N\n",
        "\n",
        "for i in range(N):\n",
        "  lectures[i] = int(line2[i])\n",
        "\n",
        "left, right = max(lectures), sum(lectures)\n",
        "ans = right\n",
        "\n",
        "# 이분탐색 적용\n",
        "while left <= right:\n",
        "  mid = (left + right) // 2\n",
        "\n",
        "  # 각 블루레이에 일일이 담고, M개 블루레이 사용 가능한지 판단\n",
        "  cnt, acc = 0, 0\n",
        "  for time in lectures:\n",
        "    if acc + time <= mid:\n",
        "      acc += time\n",
        "    else :\n",
        "      cnt += 1\n",
        "      acc = time\n",
        "\n",
        "  if acc <= mid:\n",
        "    cnt += 1\n",
        "\n",
        "  if cnt <= M:\n",
        "    ans = mid\n",
        "    right = mid - 1\n",
        "  else:\n",
        "    left = mid + 1\n",
        "\n",
        "print(ans)"
      ],
      "metadata": {
        "colab": {
          "base_uri": "https://localhost:8080/"
        },
        "id": "sIcDqsNpRoFr",
        "outputId": "f345898f-a8da-4adb-be3b-4ee5c16a99da"
      },
      "execution_count": 22,
      "outputs": [
        {
          "output_type": "stream",
          "name": "stdout",
          "text": [
            "9 3\n",
            "1 2 3 4 5 6 7 8 9\n",
            "22\n",
            "19\n",
            "17\n",
            "17\n"
          ]
        }
      ]
    },
    {
      "cell_type": "code",
      "source": [],
      "metadata": {
        "id": "lsfAf8RDR7KR"
      },
      "execution_count": null,
      "outputs": []
    }
  ]
}