{
  "nbformat": 4,
  "nbformat_minor": 0,
  "metadata": {
    "colab": {
      "provenance": [],
      "authorship_tag": "ABX9TyNih81iJdYsrHMqpzPbZklQ",
      "include_colab_link": true
    },
    "kernelspec": {
      "name": "python3",
      "display_name": "Python 3"
    },
    "language_info": {
      "name": "python"
    }
  },
  "cells": [
    {
      "cell_type": "markdown",
      "metadata": {
        "id": "view-in-github",
        "colab_type": "text"
      },
      "source": [
        "<a href=\"https://colab.research.google.com/github/jongheonleee/python-algorithm/blob/main/BOJ_%EC%98%88%EC%82%B0.ipynb\" target=\"_parent\"><img src=\"https://colab.research.google.com/assets/colab-badge.svg\" alt=\"Open In Colab\"/></a>"
      ]
    },
    {
      "cell_type": "markdown",
      "source": [
        "> - https://www.acmicpc.net/problem/2512\n",
        "# 제한 상황\n",
        "- 시간 : 1초\n",
        "- 메모리 : 128MB\n",
        "\n",
        "# 문제 요약\n",
        "-  정해진 총액 이하에서 가능한 한 최대의 총 예산을 다음과 같은 방법으로 배정\n",
        "  - 1. 모든 요청이 배정될 수 있는 경우에는 요청한 금액을 그대로 배정\n",
        "  - 2. 모든 요청이 배정될 수 없는 경우에는 특정한 정수 상한액을 계산하여 그 이상인 예산요청에는 모두 상한액을 배정(상한액 이하의 예산요청에 대해서는 요청한 금액을 그대로 배정)\n",
        "\n",
        "\n",
        "# Input\n",
        "- 지방의 수를 의미하는 정수 N(3 <= N <= 10,000)\n",
        "- 다음 줄에는 각 지방의 예산요청을 표현하는 N개의 정수가 빈칸을 사이에 두고 주어짐(1 <= k <= 100,000)\n",
        "- 그 다음 줄에는 총 예산을 나타내는 정수 M이 주어짐(M <= M <= 1,000,000,000)\n",
        "\n",
        "\n",
        "# 해결과정\n",
        "- 이분탐색 활용\n",
        "- 상한액 후보 범위 산정\n",
        "  - 0 ~ 지역의 예산요청 금액의 최대값 범위\n",
        "  - (모든 지역이 같은 예산요청 금액일 때 고려해야함)\n",
        "\n",
        "- 이분탐색 활용\n",
        "  - left, right의 중간값 도출\n",
        "  - 해당 중간값이 조건을 만족하는지 확인\n",
        "    - 조건 : 문제에서 제시된 규칙대로 각 지역에 예산 배분했을 때, 배분 총액 <= 예산 총액\n",
        "    - 조건을 만족한다면, left를 mid + 1 로 옮김\n",
        "    - 만족하지 않는다면, right를 mid - 1 로 옮김\n",
        "\n",
        "- 반복 처리가 끝났을 때, 그때의 중간값 출력(상한액)\n"
      ],
      "metadata": {
        "id": "lOw1vE9wQBHo"
      }
    },
    {
      "cell_type": "code",
      "source": [
        "# 입력값\n",
        "N = int(input())\n",
        "line = input().split()\n",
        "total_budget = int(input())\n",
        "\n",
        "# 초기 세팅\n",
        "region = [0] * N\n",
        "min_cost, max_cost = 100000, -1\n",
        "\n",
        "for i in range(N):\n",
        "  region[i] = int(line[i])\n",
        "\n",
        "  if region[i] <= min_cost :\n",
        "    min_cost = region[i]\n",
        "  if region[i] >= max_cost :\n",
        "    max_cost = region[i]\n",
        "\n",
        "\n",
        "\n",
        "# 이분탐색\n",
        "left, right, ans = 0, max_cost, 0\n",
        "while left <= right:\n",
        "  mid_cost = (left + right) // 2\n",
        "\n",
        "  used_budget = 0\n",
        "  for cost in region:\n",
        "    used_budget += min(cost, mid_cost)\n",
        "\n",
        "  if used_budget <= total_budget:\n",
        "    ans = mid_cost\n",
        "    left = mid_cost + 1\n",
        "  else:\n",
        "    right = mid_cost - 1\n",
        "\n",
        "print(ans)"
      ],
      "metadata": {
        "colab": {
          "base_uri": "https://localhost:8080/"
        },
        "id": "sIcDqsNpRoFr",
        "outputId": "334aa241-e538-44cf-a2e8-b84e110c2fa5"
      },
      "execution_count": 17,
      "outputs": [
        {
          "output_type": "stream",
          "name": "stdout",
          "text": [
            "4\n",
            "120 110 140 150\n",
            "485\n",
            "127\n"
          ]
        }
      ]
    },
    {
      "cell_type": "code",
      "source": [],
      "metadata": {
        "id": "lsfAf8RDR7KR"
      },
      "execution_count": null,
      "outputs": []
    }
  ]
}