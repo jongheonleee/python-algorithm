{
  "nbformat": 4,
  "nbformat_minor": 0,
  "metadata": {
    "colab": {
      "provenance": [],
      "authorship_tag": "ABX9TyO0WX9O3YFGsoCyrTghqFxU",
      "include_colab_link": true
    },
    "kernelspec": {
      "name": "python3",
      "display_name": "Python 3"
    },
    "language_info": {
      "name": "python"
    }
  },
  "cells": [
    {
      "cell_type": "markdown",
      "metadata": {
        "id": "view-in-github",
        "colab_type": "text"
      },
      "source": [
        "<a href=\"https://colab.research.google.com/github/jongheonleee/python-algorithm/blob/main/BOJ_%EA%B2%8C%EC%9E%84%EC%9D%84_%EB%A7%8C%EB%93%A0_%EB%8F%99%EC%A4%80%EC%9D%B4.ipynb\" target=\"_parent\"><img src=\"https://colab.research.google.com/assets/colab-badge.svg\" alt=\"Open In Colab\"/></a>"
      ]
    },
    {
      "cell_type": "markdown",
      "source": [
        "> - https://www.acmicpc.net/problem/2847\n",
        "\n",
        "# 제한 상황\n",
        "- 시간 : 2초\n",
        "- 메모리 : 128MB\n",
        "\n",
        "# 문제 요약\n",
        "- 게임에는 총 N개의 레벨이 있고, 각 레벨을 클리어할 때 마다 점수가 주어짐\n",
        "- 플레이어의 점수는 레벨을 클리어하면서 얻은 점수의 합으로, 이 점수를 바탕으로 온라인 순위를 매긴다. 동준이는 레벨을 난이도 순으로 배치함\n",
        "- 실수로 쉬운 레벨이 어려운 레벨보다 점수를 많이 받는 경우를 만듦\n",
        "- 이 문제를 해결하기 위해 동준이는 특정 레벨의 점수를 감소시키려고 한다. 이렇게해서 각 레벨을 클리어할 때 주는 점수가 증가하게 만들려고 함\n",
        "- 항상 답이 존재하는 경우만 주어짐. 정답이 여러 가지인 경우에는 점수를 내리는 것을 최소한으로 하는 방법을 찾아야 함\n",
        "\n",
        "# Input\n",
        "- 첫째 줄에 레벨의 수 N이 주어짐. (1 ≤ N ≤ 100)\n",
        "- N개 줄에는 각 레벨을 클리어하면 얻는 점수가 첫 번째 레벨부터 마지막 레벨까지 순서대로 주어짐\n",
        "\n",
        "\n",
        "# 해결과정\n",
        "- 뒤에서부터 체킹\n",
        "- a[i-1] < a[i] 층족하게 만듦\n",
        "- 이때 최소한의 차이만 빼주기\n"
      ],
      "metadata": {
        "id": "9m3CCkt34GT4"
      }
    },
    {
      "cell_type": "code",
      "source": [
        "N = int(input())\n",
        "arr = [0] * N\n",
        "\n",
        "for i in range(N):\n",
        "  arr[i] = int(input())\n",
        "\n",
        "ans = 0\n",
        "for i in range(N-1, 0, -1):\n",
        "  if i == 0 : break\n",
        "\n",
        "  if arr[i-1] >= arr[i]:\n",
        "    diff = arr[i-1] - arr[i] + 1\n",
        "    ans += diff\n",
        "    arr[i-1] -= diff\n",
        "\n",
        "print(ans)"
      ],
      "metadata": {
        "colab": {
          "base_uri": "https://localhost:8080/"
        },
        "id": "uz04Vqn83934",
        "outputId": "b3752aa8-1506-47b2-955d-2c759da17d54"
      },
      "execution_count": 5,
      "outputs": [
        {
          "output_type": "stream",
          "name": "stdout",
          "text": [
            "3\n",
            "5\n",
            "5\n",
            "5\n",
            "3\n"
          ]
        }
      ]
    },
    {
      "cell_type": "code",
      "source": [],
      "metadata": {
        "id": "M_Zw4XNu3-R_"
      },
      "execution_count": null,
      "outputs": []
    }
  ]
}