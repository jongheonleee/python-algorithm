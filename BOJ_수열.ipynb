{
  "nbformat": 4,
  "nbformat_minor": 0,
  "metadata": {
    "colab": {
      "provenance": [],
      "authorship_tag": "ABX9TyNxHgFYgnsRkjGsoi8VbKJ7",
      "include_colab_link": true
    },
    "kernelspec": {
      "name": "python3",
      "display_name": "Python 3"
    },
    "language_info": {
      "name": "python"
    }
  },
  "cells": [
    {
      "cell_type": "markdown",
      "metadata": {
        "id": "view-in-github",
        "colab_type": "text"
      },
      "source": [
        "<a href=\"https://colab.research.google.com/github/jongheonleee/python-algorithm/blob/main/BOJ_%EC%88%98%EC%97%B4.ipynb\" target=\"_parent\"><img src=\"https://colab.research.google.com/assets/colab-badge.svg\" alt=\"Open In Colab\"/></a>"
      ]
    },
    {
      "cell_type": "markdown",
      "source": [
        "> - https://www.acmicpc.net/problem/2559\n",
        "\n",
        "# 제한 상황\n",
        "- 시간 : 1초\n",
        "- 메모리 : 128MB\n",
        "\n",
        "# 문제 요약\n",
        "- 측정한 온도가 어떤 정수의 수열로 주어짐\n",
        "- 연속적인 며칠 동안의 온도의 합이 가장 큰 값을 알아보고자 함\n",
        "- 매일 측정한 온도가 정수의 수열로 주어졌을 때, 연속적인 며칠 동안의 온도의 합이 가장 큰 값을 계산하는 프로그램을 작성\n",
        "\n",
        "# Input\n",
        "- 첫째 줄에는 두 개의 정수 N과 K가 한 개의 공백을 사이에 두고 순서대로 주어짐\n",
        "- N은 온도를 측정한 전체 날짜의 수(2 <= N <= 100,000)\n",
        "- K는 합을 구하기 위한 연속적인 날짜의 수(1과 N 사이의 정수)\n",
        "\n",
        "\n",
        "# 해결과정\n",
        "- 누적합 배열 세팅\n",
        "- 길이가 K 만큼인 누적합 계산\n",
        "- 그 중에서 최대값 출력"
      ],
      "metadata": {
        "id": "VePEjpR9hm8J"
      }
    },
    {
      "cell_type": "code",
      "execution_count": 5,
      "metadata": {
        "colab": {
          "base_uri": "https://localhost:8080/"
        },
        "id": "A7paRZPShbHC",
        "outputId": "69898ce8-bc64-410b-8616-351d0bdcfa34"
      },
      "outputs": [
        {
          "output_type": "stream",
          "name": "stdout",
          "text": [
            "10 5\n",
            "3 -2 -4 -9 0 3 7 13 8 -3\n",
            "31\n"
          ]
        }
      ],
      "source": [
        "N, K = map(int, input().split())\n",
        "arr = list(map(int, input().split()))\n",
        "arr_acc = [0] * N\n",
        "\n",
        "acc = 0\n",
        "for i in range(N):\n",
        "  acc += arr[i]\n",
        "  arr_acc[i] = acc\n",
        "\n",
        "ans = arr_acc[K-1]\n",
        "for i in range(K, N):\n",
        "  sum = arr_acc[i] - arr_acc[i-K]\n",
        "  ans = max(ans, sum)\n",
        "\n",
        "print(ans)"
      ]
    },
    {
      "cell_type": "code",
      "source": [],
      "metadata": {
        "id": "_S3jVKWKioak"
      },
      "execution_count": null,
      "outputs": []
    }
  ]
}