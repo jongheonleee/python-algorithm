{
  "nbformat": 4,
  "nbformat_minor": 0,
  "metadata": {
    "colab": {
      "provenance": [],
      "authorship_tag": "ABX9TyM77KwVFZVwzwFZlkP5oPpK",
      "include_colab_link": true
    },
    "kernelspec": {
      "name": "python3",
      "display_name": "Python 3"
    },
    "language_info": {
      "name": "python"
    }
  },
  "cells": [
    {
      "cell_type": "markdown",
      "metadata": {
        "id": "view-in-github",
        "colab_type": "text"
      },
      "source": [
        "<a href=\"https://colab.research.google.com/github/jongheonleee/python-algorithm/blob/main/BOJ_%ED%81%902.ipynb\" target=\"_parent\"><img src=\"https://colab.research.google.com/assets/colab-badge.svg\" alt=\"Open In Colab\"/></a>"
      ]
    },
    {
      "cell_type": "markdown",
      "source": [
        "> - https://www.acmicpc.net/problem/18258\n",
        "\n",
        "# 제한 상황\n",
        "- 시간 : 1초\n",
        "- 메모리 : 512MB\n",
        "\n",
        "# 문제 요약\n",
        "- 큐, 입력으로 주어지는 명령을 처리\n",
        "- 명령은 아래와 같음\n",
        "  - 1. push X: X 삽입\n",
        "  - 2. pop: 맨앞 원소 반환, 없으면 -1.\n",
        "  - 3. size: 길이.\n",
        "  - 4. empty: 길이가 0이면 1, 아니면 0\n",
        "  - 5. front: 맨안 원소 출력, 없으면 -1.\n",
        "  - 6. back: 맨뒤 원소 출력, 없으면 -1\n",
        "\n",
        "\n",
        "# Input\n",
        "- 명령의 수 N (1 ≤ N ≤ 2,000,000)\n",
        "- 둘째 줄부터 N개의 줄에는 명령이 하나씩 주어짐\n",
        "\n",
        "\n",
        "\n",
        "# 해결과정\n",
        "- 큐를 구현하라는 문제\n",
        "\n",
        "- 큐 세팅(list)\n",
        "- 명령어와 실제 동작을 매핑\n",
        "\n",
        "- 명령어 수 입력받음\n",
        "\n",
        "- 해당 수만큼 반복처리\n",
        "  - 명령어 입력받기\n",
        "  - 실제 동작과 매핑\n",
        "  - 결과 출력\n",
        "\n",
        "\n",
        "\n",
        "- 큐 구현\n",
        "  - push: append\n",
        "  - pop: pop(0), 없으면 -1\n",
        "  - size: len\n",
        "  - empty: len\n",
        "  - front: queue[0], 없으면 -1\n",
        "  - back: queue[-1], 없으면 -1\n",
        "\n",
        "\n",
        "\n",
        "\n",
        "\n",
        "\n",
        "\n",
        "\n",
        "\n"
      ],
      "metadata": {
        "id": "lOw1vE9wQBHo"
      }
    },
    {
      "cell_type": "code",
      "source": [
        "### 파이썬 시간 초과\n",
        "queue = []\n",
        "\n",
        "N = int(input())\n",
        "\n",
        "for _ in range(N):\n",
        "  elements = input().split()\n",
        "\n",
        "  if elements[0] == 'push':\n",
        "     queue.append(elements[1])\n",
        "\n",
        "\n",
        "  elif elements[0] == 'pop':\n",
        "      if len(queue) == 0:\n",
        "        print(-1)\n",
        "      else:\n",
        "        print(queue.pop(0))\n",
        "\n",
        "  elif elements[0] == 'size':\n",
        "    print(len(queue))\n",
        "\n",
        "  elif elements[0] == 'empty':\n",
        "    print(1 if len(queue) == 0 else 0)\n",
        "\n",
        "  elif elements[0] == 'front':\n",
        "    print(queue[0] if len(queue) > 0 else -1)\n",
        "\n",
        "  elif elements[0] == 'back':\n",
        "    print(queue[-1] if len(queue) > 0 else -1)"
      ],
      "metadata": {
        "colab": {
          "base_uri": "https://localhost:8080/",
          "height": 216
        },
        "id": "yugslxxfmPpn",
        "outputId": "a1188575-558d-4b32-fff9-225992c7dcd0"
      },
      "execution_count": 61,
      "outputs": [
        {
          "output_type": "error",
          "ename": "ValueError",
          "evalue": "invalid literal for int() with base 10: ''",
          "traceback": [
            "\u001b[0;31m---------------------------------------------------------------------------\u001b[0m",
            "\u001b[0;31mValueError\u001b[0m                                Traceback (most recent call last)",
            "\u001b[0;32m<ipython-input-61-43db0a2a16a6>\u001b[0m in \u001b[0;36m<cell line: 0>\u001b[0;34m()\u001b[0m\n\u001b[1;32m      3\u001b[0m \u001b[0;34m\u001b[0m\u001b[0m\n\u001b[1;32m      4\u001b[0m \u001b[0mqueue\u001b[0m \u001b[0;34m=\u001b[0m \u001b[0mdeque\u001b[0m\u001b[0;34m(\u001b[0m\u001b[0;34m[\u001b[0m\u001b[0;34m]\u001b[0m\u001b[0;34m)\u001b[0m\u001b[0;34m\u001b[0m\u001b[0;34m\u001b[0m\u001b[0m\n\u001b[0;32m----> 5\u001b[0;31m \u001b[0mN\u001b[0m \u001b[0;34m=\u001b[0m \u001b[0mint\u001b[0m\u001b[0;34m(\u001b[0m\u001b[0msys\u001b[0m\u001b[0;34m.\u001b[0m\u001b[0mstdin\u001b[0m\u001b[0;34m.\u001b[0m\u001b[0mreadline\u001b[0m\u001b[0;34m(\u001b[0m\u001b[0;34m)\u001b[0m\u001b[0;34m)\u001b[0m\u001b[0;34m\u001b[0m\u001b[0;34m\u001b[0m\u001b[0m\n\u001b[0m\u001b[1;32m      6\u001b[0m \u001b[0;34m\u001b[0m\u001b[0m\n\u001b[1;32m      7\u001b[0m \u001b[0;32mfor\u001b[0m \u001b[0m_\u001b[0m \u001b[0;32min\u001b[0m \u001b[0mrange\u001b[0m\u001b[0;34m(\u001b[0m\u001b[0mN\u001b[0m\u001b[0;34m)\u001b[0m\u001b[0;34m:\u001b[0m\u001b[0;34m\u001b[0m\u001b[0;34m\u001b[0m\u001b[0m\n",
            "\u001b[0;31mValueError\u001b[0m: invalid literal for int() with base 10: ''"
          ]
        }
      ]
    },
    {
      "cell_type": "code",
      "source": [
        "### 자바로 해결\n",
        "# import java.io.BufferedReader;\n",
        "# import java.io.InputStreamReader;\n",
        "# import java.io.IOException;\n",
        "# import java.util.StringTokenizer;\n",
        "# import java.util.Deque;\n",
        "# import java.util.LinkedList;\n",
        "\n",
        "# public class Main {\n",
        "\n",
        "#     public static void main(String[] args) throws IOException {\n",
        "\n",
        "#         BufferedReader br = new BufferedReader(new InputStreamReader(System.in));\n",
        "#         StringBuilder sb = new StringBuilder();\n",
        "\n",
        "#         Deque<Integer> q = new LinkedList<>();\n",
        "#         int N = Integer.parseInt(br.readLine());\n",
        "#         StringTokenizer command;\n",
        "\n",
        "#         while (N-- > 0) {\n",
        "#             command = new StringTokenizer(br.readLine());\n",
        "\n",
        "#             switch(command.nextToken()) {\n",
        "#                 case \"push\":\n",
        "#                     q.offer(Integer.parseInt(command.nextToken()));\n",
        "#                     break;\n",
        "\n",
        "#                 case \"pop\":\n",
        "#                     Integer item = q.poll();\n",
        "#                     sb.append(item != null ? item : -1).append(\"\\n\");\n",
        "#                     break;\n",
        "\n",
        "#                 case \"size\":\n",
        "#                     sb.append(q.size()).append(\"\\n\");\n",
        "#                     break;\n",
        "\n",
        "#                 case \"empty\":\n",
        "#                     sb.append(q.isEmpty() ? 1 : 0).append(\"\\n\");\n",
        "#                     break;\n",
        "\n",
        "#                 case \"front\":\n",
        "#                     Integer front = q.peek();\n",
        "#                     sb.append(front != null ? front : -1).append(\"\\n\");\n",
        "#                     break;\n",
        "\n",
        "#                 case \"back\":\n",
        "#                     Integer last = q.peekLast();\n",
        "#                     sb.append(last != null ? last : -1).append(\"\\n\");\n",
        "#                     break;\n",
        "#             }\n",
        "#         }\n",
        "\n",
        "#         System.out.print(sb);\n",
        "#     }\n",
        "# }\n"
      ],
      "metadata": {
        "id": "RS7Vayy1zs-V"
      },
      "execution_count": null,
      "outputs": []
    }
  ]
}