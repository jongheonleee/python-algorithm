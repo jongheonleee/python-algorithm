{
  "nbformat": 4,
  "nbformat_minor": 0,
  "metadata": {
    "colab": {
      "provenance": [],
      "authorship_tag": "ABX9TyMcz9aFdzRXvZ/naRXJ2vc3",
      "include_colab_link": true
    },
    "kernelspec": {
      "name": "python3",
      "display_name": "Python 3"
    },
    "language_info": {
      "name": "python"
    }
  },
  "cells": [
    {
      "cell_type": "markdown",
      "metadata": {
        "id": "view-in-github",
        "colab_type": "text"
      },
      "source": [
        "<a href=\"https://colab.research.google.com/github/jongheonleee/python-algorithm/blob/main/BOJ_%EC%88%AB%EC%9E%90%EC%9D%98%ED%95%A9.ipynb\" target=\"_parent\"><img src=\"https://colab.research.google.com/assets/colab-badge.svg\" alt=\"Open In Colab\"/></a>"
      ]
    },
    {
      "cell_type": "markdown",
      "source": [
        "> - https://www.acmicpc.net/problem/11720\n",
        "\n",
        "# 제한 상황\n",
        "- 시간 : 1초\n",
        "- 메모리 : 256MB\n",
        "\n",
        "# 문제 요약\n",
        "- N개의 숫자가 공백 없이 쓰임\n",
        "- 모든 수의 합 출력\n",
        "\n",
        "\n",
        "# Input\n",
        "- 첫째 줄에 숫자의 개수 N (1 ≤ N ≤ 100)이 주어짐\n",
        "\n",
        "\n",
        "# 해결과정\n",
        "- 배열 세팅\n",
        "- 숫자 개수 입력 받음\n",
        "\n",
        "- 숫자 입력받음(정수형)\n",
        "  - 일의 자리 수 카운팅(빈도수 기록)\n",
        "  - 10으로 나누기\n",
        "  - 이 과정을 0이될 때까지 반복\n",
        "\n",
        "- 전체합 계산\n",
        "  - 각 숫자 * 빈도수\n",
        "  - 총합\n",
        "\n",
        "\n",
        "\n",
        "\n",
        "\n"
      ],
      "metadata": {
        "id": "lOw1vE9wQBHo"
      }
    },
    {
      "cell_type": "code",
      "execution_count": 22,
      "metadata": {
        "colab": {
          "base_uri": "https://localhost:8080/"
        },
        "id": "T94R1Kt-P6t6",
        "outputId": "56d3e544-6ae2-4fd2-8997-557d882af18d"
      },
      "outputs": [
        {
          "output_type": "stream",
          "name": "stdout",
          "text": [
            "11\n",
            "10987654321\n",
            "46\n"
          ]
        }
      ],
      "source": [
        "counter = [0] * 10\n",
        "\n",
        "N = int(input())\n",
        "number = int(input())\n",
        "\n",
        "while number > 0:\n",
        "  number, idx = divmod(number, 10)\n",
        "  counter[idx] += 1\n",
        "\n",
        "total_sum = 0\n",
        "for num, cnt in enumerate(counter):\n",
        "  total_sum += (num * cnt)\n",
        "\n",
        "print(total_sum)"
      ]
    },
    {
      "cell_type": "code",
      "source": [
        "def get_number(num: str) -> int:\n",
        "  return ord(num) - ord('0')\n",
        "\n",
        "N = int(input())\n",
        "number = input()\n",
        "\n",
        "\n",
        "total_sum = 0\n",
        "for i in range(N):\n",
        "  total_sum += get_number(number[i])\n",
        "\n",
        "print(total_sum)"
      ],
      "metadata": {
        "id": "hmQT8ktiQx8V",
        "colab": {
          "base_uri": "https://localhost:8080/"
        },
        "outputId": "1684b32a-567d-4622-86b4-c5c857cb0709"
      },
      "execution_count": 24,
      "outputs": [
        {
          "output_type": "stream",
          "name": "stdout",
          "text": [
            "11\n",
            "10987654321\n",
            "46\n"
          ]
        }
      ]
    },
    {
      "cell_type": "code",
      "source": [],
      "metadata": {
        "id": "9-oxvqYldkv2"
      },
      "execution_count": null,
      "outputs": []
    }
  ]
}