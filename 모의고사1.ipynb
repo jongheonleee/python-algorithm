{
  "nbformat": 4,
  "nbformat_minor": 0,
  "metadata": {
    "colab": {
      "provenance": [],
      "authorship_tag": "ABX9TyO9NDRhhqmLI1PSTuXMYYf2",
      "include_colab_link": true
    },
    "kernelspec": {
      "name": "python3",
      "display_name": "Python 3"
    },
    "language_info": {
      "name": "python"
    }
  },
  "cells": [
    {
      "cell_type": "markdown",
      "metadata": {
        "id": "view-in-github",
        "colab_type": "text"
      },
      "source": [
        "<a href=\"https://colab.research.google.com/github/jongheonleee/python-algorithm/blob/main/%EB%AA%A8%EC%9D%98%EA%B3%A0%EC%82%AC1.ipynb\" target=\"_parent\"><img src=\"https://colab.research.google.com/assets/colab-badge.svg\" alt=\"Open In Colab\"/></a>"
      ]
    },
    {
      "cell_type": "markdown",
      "source": [
        "### 코테 모의고사 1회차\n",
        "\n",
        "> ### 목표 : 4솔\n",
        "> ### 실제 점수 : 4.5솔\n",
        "\n",
        "- 시간: 2시간\n",
        "- 문제: 6문제\n",
        "- 1. https://www.acmicpc.net/problem/13866 ✅\n",
        "- 2. https://www.acmicpc.net/problem/2635 ✅\n",
        "- 3. https://www.acmicpc.net/problem/1059 ✅\n",
        "- 4. https://www.acmicpc.net/problem/5724 ✅\n",
        "- 5. https://www.acmicpc.net/problem/2320 🔺\n",
        "- 6. https://www.acmicpc.net/problem/2923 ❌\n"
      ],
      "metadata": {
        "id": "IbSW6QjKo8lJ"
      }
    },
    {
      "cell_type": "code",
      "execution_count": 8,
      "metadata": {
        "colab": {
          "base_uri": "https://localhost:8080/",
          "height": 233
        },
        "id": "YRXVcDCBoorf",
        "outputId": "dbc7f487-db2d-4eff-9379-ef16a921f882"
      },
      "outputs": [
        {
          "name": "stdout",
          "output_type": "stream",
          "text": [
            "0 0 1 1000\n"
          ]
        },
        {
          "output_type": "error",
          "ename": "TypeError",
          "evalue": "'int' object is not callable",
          "traceback": [
            "\u001b[0;31m---------------------------------------------------------------------------\u001b[0m",
            "\u001b[0;31mTypeError\u001b[0m                                 Traceback (most recent call last)",
            "\u001b[0;32m<ipython-input-8-db1512497e11>\u001b[0m in \u001b[0;36m<cell line: 0>\u001b[0;34m()\u001b[0m\n\u001b[1;32m      9\u001b[0m \u001b[0;34m\u001b[0m\u001b[0m\n\u001b[1;32m     10\u001b[0m \u001b[0marr\u001b[0m \u001b[0;34m=\u001b[0m \u001b[0mlist\u001b[0m\u001b[0;34m(\u001b[0m\u001b[0mmap\u001b[0m\u001b[0;34m(\u001b[0m\u001b[0mint\u001b[0m\u001b[0;34m,\u001b[0m \u001b[0minput\u001b[0m\u001b[0;34m(\u001b[0m\u001b[0;34m)\u001b[0m\u001b[0;34m.\u001b[0m\u001b[0msplit\u001b[0m\u001b[0;34m(\u001b[0m\u001b[0;34m)\u001b[0m\u001b[0;34m)\u001b[0m\u001b[0;34m)\u001b[0m\u001b[0;34m\u001b[0m\u001b[0;34m\u001b[0m\u001b[0m\n\u001b[0;32m---> 11\u001b[0;31m \u001b[0msum\u001b[0m \u001b[0;34m=\u001b[0m \u001b[0msum\u001b[0m\u001b[0;34m(\u001b[0m\u001b[0marr\u001b[0m\u001b[0;34m)\u001b[0m\u001b[0;34m\u001b[0m\u001b[0;34m\u001b[0m\u001b[0m\n\u001b[0m\u001b[1;32m     12\u001b[0m \u001b[0mres\u001b[0m \u001b[0;34m=\u001b[0m \u001b[0msum\u001b[0m\u001b[0;34m\u001b[0m\u001b[0;34m\u001b[0m\u001b[0m\n\u001b[1;32m     13\u001b[0m \u001b[0;34m\u001b[0m\u001b[0m\n",
            "\u001b[0;31mTypeError\u001b[0m: 'int' object is not callable"
          ]
        }
      ],
      "source": [
        "### - 1. https://www.acmicpc.net/problem/13866 ✅\n",
        "\n",
        "### 문제요약:\n",
        "### - 4명의 친구는 각각 두 명씩 구성된 두 팀을 구성\n",
        "### - 팀의 스킬 레벨이 가능한 작은 차이를 갖도록 돕기\n",
        "\n",
        "### 해결방안:\n",
        "### - 브루트포스 적용\n",
        "### - 전체 경우에서 최소 차이나는 값 기록하여 반환\n",
        "\n",
        "arr = list(map(int, input().split()))\n",
        "sum = sum(arr)\n",
        "res = sum\n",
        "\n",
        "for i in range(3):\n",
        "  for j in range(i+1, 4):\n",
        "    k = arr[i] + arr[j]\n",
        "    diff = sum - k\n",
        "    res = min(res, abs(diff - k))\n",
        "\n",
        "print(res)"
      ]
    },
    {
      "cell_type": "code",
      "source": [
        "### - 2. https://www.acmicpc.net/problem/2635 ✅\n",
        "\n",
        "### 문제요약:\n",
        "### - 첫 번째 수로 양의 정수가 주어진다.\n",
        "### - 두 번째 수는 양의 정수 중에서 하나를 선택한다.\n",
        "### - 세 번째부터 이후에 나오는 모든 수는 앞의 앞의 수에서 앞의 수를 빼서 만든다.\n",
        "  ### - 예를 들어, 세 번째 수는 첫 번째 수에서 두 번째 수를 뺀 것이고, 네 번째 수는 두 번째 수에서 세 번째 수를 뺀 것이다.\n",
        "### - 음의 정수가 만들어지면, 이 음의 정수를 버리고 더 이상 수를 만들지 않는다.\n",
        "\n",
        "### 해결방안:\n",
        "### - 브루트포스 적용\n",
        "### - 규칙 구현해서 시뮬레이션 돌리기\n",
        "### - 결과 출력(만들 수 있는 수, 최대 개수)\n",
        "\n",
        "N = int(input())\n",
        "arr = [N]\n",
        "\n",
        "for k in range(1, N+1): # 두 번째 수는 양의 정수 중에 하나 선택\n",
        "  tmp = [N, k]\n",
        "\n",
        "  first = N\n",
        "  second = k\n",
        "\n",
        "  while True:\n",
        "    third = first - second\n",
        "\n",
        "    if third < 0:\n",
        "      if len(arr) <= len(tmp):\n",
        "        arr = tmp\n",
        "      break\n",
        "\n",
        "    tmp.append(third)\n",
        "    first = second\n",
        "    second = third\n",
        "\n",
        "print(len(arr))\n",
        "for k in arr:\n",
        "  print(k, end=' ')\n"
      ],
      "metadata": {
        "colab": {
          "base_uri": "https://localhost:8080/"
        },
        "id": "ysX1TOzhpmNb",
        "outputId": "f9f16485-923a-4c66-ce7e-0ae371680181"
      },
      "execution_count": 18,
      "outputs": [
        {
          "output_type": "stream",
          "name": "stdout",
          "text": [
            "30000\n",
            "17\n",
            "30000 18541 11459 7082 4377 2705 1672 1033 639 394 245 149 96 53 43 10 33 "
          ]
        }
      ]
    },
    {
      "cell_type": "code",
      "source": [
        "### - 3. https://www.acmicpc.net/problem/1059 ✅\n",
        "\n",
        "### 문제요약:\n",
        "### - 좋은 구간 정의\n",
        "  ### - 1. [A, B] -> A와 B는 양의 정수, A < B\n",
        "  ### - 2. A ≤ x ≤ B를 만족하는 모든 정수 x가 집합 S에 속하지 않음\n",
        "\n",
        "\n",
        "### 해결방안:\n",
        "### - 구현\n",
        "### - 세가지 경우로 나타낼 수 있음\n",
        "### - 1. 전달받은 k을 기점으로 집합 s의 원소가 왼쪽에 몰려 있음\n",
        "### - 2. 전달받은 k을 기점으로 집합 s의 원소가 오른쪽에 몰려 있음\n",
        "### - 3. 전달받은 k이 집합 s의 두 원소 사이에 존재함\n",
        "### - 각 케이스 따져서 그에 맞는 알고리즘을 구현\n",
        "N = int(input())\n",
        "s = set(map(int, input().split()))\n",
        "k = int(input())\n",
        "\n",
        "### 제한 사항 설정\n",
        "lower_bound = 1\n",
        "higher_bound = 1000\n",
        "\n",
        "min_val = 1001\n",
        "max_val = -1\n",
        "\n",
        "l = list(s)\n",
        "l.sort()\n",
        "done = False\n",
        "count = 0\n",
        "\n",
        "min_val = l[0]\n",
        "max_val = l[-1]\n",
        "\n",
        "### 예외 경우\n",
        "if not done and k in s:\n",
        "  done = True\n",
        "\n",
        "### - 1. 전달받은 k을 기점으로 집합 s의 원소가 왼쪽에 몰려 있음\n",
        "elif not done and k < min_val:\n",
        "  left, right = lower_bound, min_val - 1\n",
        "  count = 0\n",
        "\n",
        "  for start in range(left, right+1):\n",
        "    for end in range(start+1, right+1):\n",
        "      if start == end : continue\n",
        "      if start <= k <= end: count += 1\n",
        "\n",
        "  done = True\n",
        "\n",
        "### - 2. 전달받은 k을 기점으로 집합 s의 원소가 오른쪽에 몰려 있음\n",
        "elif not done and min_val < k < max_val:\n",
        "  for idx, val in enumerate(l):\n",
        "    if done: break\n",
        "\n",
        "    if not done and val > k:\n",
        "      left, right = l[idx-1]+1, l[idx]-1\n",
        "      count = 0\n",
        "\n",
        "      for start in range(left, right+1):\n",
        "        for end in range(start+1, right+1):\n",
        "          if start == end : continue\n",
        "          if start <= k <= end: count += 1\n",
        "\n",
        "      done = True\n",
        "\n",
        "### - 3. 전달받은 k이 집합 s의 두 원소 사이에 존재함\n",
        "elif not done and max_val < k:\n",
        "  left, right = max_val + 1, higher_bound\n",
        "  count = 0\n",
        "\n",
        "  for start in range(left, right+1):\n",
        "    for end in range(start+1, right+1):\n",
        "      if start == end : continue\n",
        "      if start <= k <= end: count += 1\n",
        "\n",
        "  done = True\n",
        "\n",
        "print(count)"
      ],
      "metadata": {
        "colab": {
          "base_uri": "https://localhost:8080/"
        },
        "id": "hRih3_t5powK",
        "outputId": "47f92aab-cd45-4f44-f4a4-315e165b0f55"
      },
      "execution_count": 6,
      "outputs": [
        {
          "output_type": "stream",
          "name": "stdout",
          "text": [
            "8\n",
            "3 7 12 18 25 100 33 1000\n",
            "59\n",
            "1065\n",
            "1065\n"
          ]
        }
      ]
    },
    {
      "cell_type": "code",
      "source": [
        "### - 4. https://www.acmicpc.net/problem/5724 ✅\n",
        "\n",
        "### 문제요약:\n",
        "### - \"N × N 정사각형으로 이루어진 그리드에는 서로 다른 정사각형이 몇 개나 있을까요?\"\n",
        "### - 이 퀴즈의 정답을 구하는 프로그램을 작성\n",
        "\n",
        "\n",
        "### 해결방안:\n",
        "### - 정사각형이 되기 위한 규칙이 있을거로 예상\n",
        "### - 해당 규칙을 찾아내서 코드로 작성\n",
        "### - 내가 찾은 규칙은 아래와 같음\n",
        "### - 전체 정사각형의 한변의 길이를 N으로 가정\n",
        "### - 내가 찾고자하는 작은 정사각형의 한변의 길이를 M이라고 가정\n",
        "### - 규칙: (N-M+1)^2\n",
        "### - 이때, M이 1~N까지 움직임. 이를 모두 더한 값이 정답\n",
        "\n",
        "res = []\n",
        "\n",
        "while True:\n",
        "  N = int(input())\n",
        "  if N == 0:\n",
        "    break\n",
        "\n",
        "  sum = 0\n",
        "  for M in range(1, N+1):\n",
        "    sum += (N-M+1)**2\n",
        "\n",
        "  res.append(sum)\n",
        "\n",
        "for k in res:\n",
        "  print(k)\n"
      ],
      "metadata": {
        "colab": {
          "base_uri": "https://localhost:8080/"
        },
        "id": "Edda2k6GpsUr",
        "outputId": "9fc43de4-5c7f-4e52-ed86-3b04bfd5a0b9"
      },
      "execution_count": 9,
      "outputs": [
        {
          "output_type": "stream",
          "name": "stdout",
          "text": [
            "2\n",
            "1\n",
            "8\n",
            "0\n",
            "5\n",
            "1\n",
            "204\n"
          ]
        }
      ]
    },
    {
      "cell_type": "code",
      "source": [
        "### - 5. https://www.acmicpc.net/problem/2320 🔺\n",
        "\n",
        "### 문제요약:\n",
        "### - 끝말잇기 게임\n",
        "### - 단어는 주어지는 사전에 나와 있는 단어만 사용해야 하며 (영혼이 맑아질 만한 사실을 한 가지 가르쳐 주자면)\n",
        "### - 사전의 단어들은 모두 모음(A, E, I, O, U)으로만 이루어져있다는 것\n",
        "### - 단어의 시작은 어떤 단어이든지 상관이 없고\n",
        "### - 같은 단어가 두 번 이상 사용되면 안 되며 게임에 사용된 단어의 길이의 합이 그 팀의 점수가 됨\n",
        "### - 점수가 최대가 되도록 끝말잇기 규칙에 맞게 단어를 늘어놓는 프로그램을 만들어 승환이와 석원이를 도와주도록 하자.\n",
        "\n",
        "\n",
        "\n",
        "### 해결방안:\n",
        "### - 일단, 브루트 포스로 풀어봄\n",
        "### - 제한 시간 걸림\n",
        "from itertools import permutations\n",
        "\n",
        "N = int(input())\n",
        "words = []\n",
        "\n",
        "for _ in range(N):\n",
        "  words.append(input())\n",
        "\n",
        "pos = [idx for idx in range(len(words))]\n",
        "perms = permutations(pos, N)\n",
        "\n",
        "result = 0\n",
        "for perm in perms:\n",
        "  s = ''\n",
        "  for idx in perm:\n",
        "    if len(s) == 0 or s[-1] == words[idx][0]:\n",
        "      s += words[idx]\n",
        "      result = max(result, len(s))\n",
        "    else:\n",
        "      break\n",
        "\n",
        "print(result)\n"
      ],
      "metadata": {
        "colab": {
          "base_uri": "https://localhost:8080/"
        },
        "id": "8R9wlLS3puAQ",
        "outputId": "c01dac41-acb6-4ddd-aaa0-fc79ca4c1f5d"
      },
      "execution_count": 18,
      "outputs": [
        {
          "output_type": "stream",
          "name": "stdout",
          "text": [
            "5\n",
            "IOO\n",
            "IUUO\n",
            "AI\n",
            "OIOOI\n",
            "AOOI\n",
            "16\n"
          ]
        }
      ]
    },
    {
      "cell_type": "code",
      "source": [
        "### - 6. https://www.acmicpc.net/problem/2923 ❌"
      ],
      "metadata": {
        "id": "wpaPnDXbpvct"
      },
      "execution_count": 13,
      "outputs": []
    }
  ]
}